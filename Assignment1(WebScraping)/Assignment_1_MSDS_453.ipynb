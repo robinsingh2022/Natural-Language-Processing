{
 "cells": [
  {
   "cell_type": "code",
   "execution_count": 104,
   "metadata": {
    "colab": {
     "base_uri": "https://localhost:8080/"
    },
    "id": "DPF1PO8AFgum",
    "outputId": "6bf1a5d1-ef10-428c-f3cf-43d367cc9179"
   },
   "outputs": [
    {
     "name": "stdout",
     "output_type": "stream",
     "text": [
      "Collecting jsonlines\n",
      "  Downloading https://files.pythonhosted.org/packages/d4/58/06f430ff7607a2929f80f07bfd820acbc508a4e977542fefcc522cde9dff/jsonlines-2.0.0-py3-none-any.whl\n",
      "Installing collected packages: jsonlines\n",
      "Successfully installed jsonlines-2.0.0\n"
     ]
    }
   ],
   "source": [
    "pip install jsonlines\n"
   ]
  },
  {
   "cell_type": "code",
   "execution_count": 105,
   "metadata": {
    "id": "YoE3ei6fyTXR"
   },
   "outputs": [],
   "source": [
    "import requests\n",
    "from bs4 import BeautifulSoup\n",
    "import pandas as pd\n",
    "import jsonlines\n",
    "import json"
   ]
  },
  {
   "cell_type": "code",
   "execution_count": 2,
   "metadata": {
    "id": "uePsaI5SydAU"
   },
   "outputs": [],
   "source": [
    "baseurl='https://www.cdc.gov/'"
   ]
  },
  {
   "cell_type": "code",
   "execution_count": 3,
   "metadata": {
    "id": "e-jGZvQ9yjMh"
   },
   "outputs": [],
   "source": [
    "headers = {\n",
    "    'User-Agent': 'https://developers.whatismybrowser.com/useragents/parse/720201safari-mac-os-x-webkit'\n",
    "}"
   ]
  },
  {
   "cell_type": "code",
   "execution_count": 4,
   "metadata": {
    "id": "O7qFurNNzIt_"
   },
   "outputs": [],
   "source": [
    "r = requests.get('https://www.cdc.gov/mmwr/Novel_Coronavirus_Reports.html')"
   ]
  },
  {
   "cell_type": "code",
   "execution_count": 5,
   "metadata": {
    "id": "dphAjBqZzrxg"
   },
   "outputs": [],
   "source": [
    "soup = BeautifulSoup(r.content,'lxml')\n",
    "report=soup.find_all('div',class_='col-md-12 splash-col')\n"
   ]
  },
  {
   "cell_type": "code",
   "execution_count": 8,
   "metadata": {
    "colab": {
     "base_uri": "https://localhost:8080/"
    },
    "id": "eVPV_q4t1Qk0",
    "outputId": "e70c3a43-fd1b-4a00-ca79-6d0a53f899b0"
   },
   "outputs": [
    {
     "name": "stdout",
     "output_type": "stream",
     "text": [
      "262\n"
     ]
    }
   ],
   "source": [
    "links=[]\n",
    "for item in report:\n",
    "  for link in item.find_all('a', href=True):\n",
    "    links.append(baseurl + link['href'])\n",
    "\n",
    "print(len(links))"
   ]
  },
  {
   "cell_type": "code",
   "execution_count": 21,
   "metadata": {
    "colab": {
     "base_uri": "https://localhost:8080/"
    },
    "id": "IZlzlAmv3ZjF",
    "outputId": "67045458-9998-479b-8e8f-41b964052795"
   },
   "outputs": [
    {
     "data": {
      "text/plain": [
       "['https://www.cdc.gov//mmwr/mmwrpodcasts.html',\n",
       " 'https://www.cdc.gov/https://tools.cdc.gov/campaignproxyservice/subscriptions.aspx?topic_id=USCDC_921',\n",
       " 'https://www.cdc.gov///www.youtube-nocookie.com/embed/9pVy8sRC440?autohide=0&enablejsapi=1&playerapiid=56233&modestbranding=1&rel=0&origin=https://www.cdc.gov?autohide=0&enablejsapi=1&playerapiid=56233&modestbranding=1&rel=0&origin=https://www.cdc.gov&wmode=opaque?enablejsapi=1',\n",
       " 'https://www.cdc.gov/https://www.youtube.com/watch?v=9pVy8sRC440',\n",
       " 'https://www.cdc.gov//mmwr/volumes/70/wr/mm7015a3.htm?s_cid=mm7015a3_w']"
      ]
     },
     "execution_count": 21,
     "metadata": {
      "tags": []
     },
     "output_type": "execute_result"
    }
   ],
   "source": [
    "links[:5]"
   ]
  },
  {
   "cell_type": "code",
   "execution_count": 17,
   "metadata": {
    "id": "COrFraum1FK1"
   },
   "outputs": [],
   "source": [
    "list2=links[4:]"
   ]
  },
  {
   "cell_type": "code",
   "execution_count": null,
   "metadata": {
    "id": "8qV0uLF-1GwH"
   },
   "outputs": [],
   "source": [
    "list2"
   ]
  },
  {
   "cell_type": "code",
   "execution_count": 92,
   "metadata": {
    "id": "C-ETeidiB5aw"
   },
   "outputs": [],
   "source": []
  },
  {
   "cell_type": "code",
   "execution_count": 99,
   "metadata": {
    "id": "wIJSxNh-3Psa"
   },
   "outputs": [],
   "source": [
    "counter=0\n",
    "\n",
    "finalList=[]\n",
    "#testlink='https://www.cdc.gov/mmwr/volumes/70/wr/mm7016e1.htm?s_cid=mm7016e1_w'\n",
    "for link in list2:\n",
    "  r = requests.get(link,headers=headers)\n",
    "  soup = BeautifulSoup(r.content,'lxml')\n",
    "  counter=counter\n",
    "  link=r.url\n",
    "  name=soup.find('h1').text\n",
    "\n",
    "  text=([i.text for i in soup.find_all('div', class_='order-4 w-100')])\n",
    "  text=''.join(str(v) for v in text)\n",
    "  docs={\n",
    "      'count':counter,\n",
    "      'url':link,\n",
    "      'name':name,\n",
    "      'text':text\n",
    "  }\n",
    "  counter=counter+1\n",
    "  finalList.append(docs)"
   ]
  },
  {
   "cell_type": "code",
   "execution_count": 101,
   "metadata": {
    "colab": {
     "base_uri": "https://localhost:8080/",
     "height": 289
    },
    "id": "BjJcTt1--XlE",
    "outputId": "f6b690aa-63dc-4a21-b5e9-f03f6a3e112b"
   },
   "outputs": [
    {
     "data": {
      "text/html": [
       "<div>\n",
       "<style scoped>\n",
       "    .dataframe tbody tr th:only-of-type {\n",
       "        vertical-align: middle;\n",
       "    }\n",
       "\n",
       "    .dataframe tbody tr th {\n",
       "        vertical-align: top;\n",
       "    }\n",
       "\n",
       "    .dataframe thead th {\n",
       "        text-align: right;\n",
       "    }\n",
       "</style>\n",
       "<table border=\"1\" class=\"dataframe\">\n",
       "  <thead>\n",
       "    <tr style=\"text-align: right;\">\n",
       "      <th></th>\n",
       "      <th>count</th>\n",
       "      <th>url</th>\n",
       "      <th>name</th>\n",
       "      <th>text</th>\n",
       "    </tr>\n",
       "  </thead>\n",
       "  <tbody>\n",
       "    <tr>\n",
       "      <th>0</th>\n",
       "      <td>0</td>\n",
       "      <td>https://www.cdc.gov//mmwr/volumes/70/wr/mm7015...</td>\n",
       "      <td>Update: COVID-19 Pandemic–Associated Changes i...</td>\n",
       "      <td>During March 29–April 25, 2020, emergency depa...</td>\n",
       "    </tr>\n",
       "    <tr>\n",
       "      <th>1</th>\n",
       "      <td>1</td>\n",
       "      <td>https://www.cdc.gov//mmwr/volumes/70/wr/mm7015...</td>\n",
       "      <td>Factors Associated with Participation in Eleme...</td>\n",
       "      <td>During December 3, 2020–January 31, 2021, CDC,...</td>\n",
       "    </tr>\n",
       "    <tr>\n",
       "      <th>2</th>\n",
       "      <td>2</td>\n",
       "      <td>https://www.cdc.gov//mmwr/volumes/70/wr/mm7015...</td>\n",
       "      <td>Trends in Racial and Ethnic Disparities in COV...</td>\n",
       "      <td>Persons from racial and ethnic minority groups...</td>\n",
       "    </tr>\n",
       "    <tr>\n",
       "      <th>3</th>\n",
       "      <td>3</td>\n",
       "      <td>https://www.cdc.gov//mmwr/volumes/70/wr/mm7015...</td>\n",
       "      <td>Emergency Department Visits for COVID-19 by Ra...</td>\n",
       "      <td>Hispanic or Latino (Hispanic), non-Hispanic Bl...</td>\n",
       "    </tr>\n",
       "    <tr>\n",
       "      <th>4</th>\n",
       "      <td>4</td>\n",
       "      <td>https://www.cdc.gov//mmwr/volumes/70/wr/mm7015...</td>\n",
       "      <td>Notes from the Field: Update on Excess Deaths ...</td>\n",
       "      <td>Estimates of excess deaths, defined as the num...</td>\n",
       "    </tr>\n",
       "  </tbody>\n",
       "</table>\n",
       "</div>"
      ],
      "text/plain": [
       "   count  ...                                               text\n",
       "0      0  ...  During March 29–April 25, 2020, emergency depa...\n",
       "1      1  ...  During December 3, 2020–January 31, 2021, CDC,...\n",
       "2      2  ...  Persons from racial and ethnic minority groups...\n",
       "3      3  ...  Hispanic or Latino (Hispanic), non-Hispanic Bl...\n",
       "4      4  ...  Estimates of excess deaths, defined as the num...\n",
       "\n",
       "[5 rows x 4 columns]"
      ]
     },
     "execution_count": 101,
     "metadata": {
      "tags": []
     },
     "output_type": "execute_result"
    }
   ],
   "source": [
    "df=pd.DataFrame(finalList)\n",
    "df.head()"
   ]
  },
  {
   "cell_type": "code",
   "execution_count": 106,
   "metadata": {
    "colab": {
     "base_uri": "https://localhost:8080/"
    },
    "id": "qgY9YB0HCBDV",
    "outputId": "ee599620-e181-4e57-d81e-1f077741ffcd"
   },
   "outputs": [
    {
     "name": "stderr",
     "output_type": "stream",
     "text": [
      "/usr/local/lib/python3.7/dist-packages/pandas/core/frame.py:1490: FutureWarning: Using short name for 'orient' is deprecated. Only the options: ('dict', list, 'series', 'split', 'records', 'index') will be used in a future version. Use one of the above to silence this warning.\n",
      "  FutureWarning,\n"
     ]
    }
   ],
   "source": [
    "dictionary = df.to_dict('reports')\n",
    "with jsonlines.open('reports.jl','w') as writer:\n",
    "    writer.write_all(dictionary)"
   ]
  },
  {
   "cell_type": "code",
   "execution_count": null,
   "metadata": {
    "id": "3Dstuzs3CA9N"
   },
   "outputs": [],
   "source": []
  },
  {
   "cell_type": "code",
   "execution_count": null,
   "metadata": {
    "id": "oDB_R8noCA2n"
   },
   "outputs": [],
   "source": []
  },
  {
   "cell_type": "code",
   "execution_count": null,
   "metadata": {
    "id": "jb3xjay6_5FJ"
   },
   "outputs": [],
   "source": []
  }
 ],
 "metadata": {
  "colab": {
   "collapsed_sections": [],
   "name": "Assignment 1 MSDS 453.ipynb",
   "provenance": []
  },
  "kernelspec": {
   "display_name": "Python 3",
   "language": "python",
   "name": "python3"
  },
  "language_info": {
   "codemirror_mode": {
    "name": "ipython",
    "version": 3
   },
   "file_extension": ".py",
   "mimetype": "text/x-python",
   "name": "python",
   "nbconvert_exporter": "python",
   "pygments_lexer": "ipython3",
   "version": "3.8.3"
  }
 },
 "nbformat": 4,
 "nbformat_minor": 1
}
