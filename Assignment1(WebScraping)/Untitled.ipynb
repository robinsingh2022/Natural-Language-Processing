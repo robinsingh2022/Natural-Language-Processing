{
 "cells": [
  {
   "cell_type": "code",
   "execution_count": 1,
   "metadata": {},
   "outputs": [],
   "source": [
    "import numpy as np\n",
    "import pandas as pd\n",
    "import string"
   ]
  },
  {
   "cell_type": "code",
   "execution_count": 2,
   "metadata": {},
   "outputs": [],
   "source": [
    "df=pd.read_json('reports.jl',lines=True)"
   ]
  },
  {
   "cell_type": "code",
   "execution_count": 3,
   "metadata": {},
   "outputs": [
    {
     "data": {
      "text/html": [
       "<div>\n",
       "<style scoped>\n",
       "    .dataframe tbody tr th:only-of-type {\n",
       "        vertical-align: middle;\n",
       "    }\n",
       "\n",
       "    .dataframe tbody tr th {\n",
       "        vertical-align: top;\n",
       "    }\n",
       "\n",
       "    .dataframe thead th {\n",
       "        text-align: right;\n",
       "    }\n",
       "</style>\n",
       "<table border=\"1\" class=\"dataframe\">\n",
       "  <thead>\n",
       "    <tr style=\"text-align: right;\">\n",
       "      <th></th>\n",
       "      <th>count</th>\n",
       "      <th>url</th>\n",
       "      <th>name</th>\n",
       "      <th>text</th>\n",
       "    </tr>\n",
       "  </thead>\n",
       "  <tbody>\n",
       "    <tr>\n",
       "      <th>0</th>\n",
       "      <td>0</td>\n",
       "      <td>https://www.cdc.gov//mmwr/volumes/70/wr/mm7015...</td>\n",
       "      <td>Update: COVID-19 Pandemic–Associated Changes i...</td>\n",
       "      <td>During March 29–April 25, 2020, emergency depa...</td>\n",
       "    </tr>\n",
       "    <tr>\n",
       "      <th>1</th>\n",
       "      <td>1</td>\n",
       "      <td>https://www.cdc.gov//mmwr/volumes/70/wr/mm7015...</td>\n",
       "      <td>Factors Associated with Participation in Eleme...</td>\n",
       "      <td>During December 3, 2020–January 31, 2021, CDC,...</td>\n",
       "    </tr>\n",
       "    <tr>\n",
       "      <th>2</th>\n",
       "      <td>2</td>\n",
       "      <td>https://www.cdc.gov//mmwr/volumes/70/wr/mm7015...</td>\n",
       "      <td>Trends in Racial and Ethnic Disparities in COV...</td>\n",
       "      <td>Persons from racial and ethnic minority groups...</td>\n",
       "    </tr>\n",
       "    <tr>\n",
       "      <th>3</th>\n",
       "      <td>3</td>\n",
       "      <td>https://www.cdc.gov//mmwr/volumes/70/wr/mm7015...</td>\n",
       "      <td>Emergency Department Visits for COVID-19 by Ra...</td>\n",
       "      <td>Hispanic or Latino (Hispanic), non-Hispanic Bl...</td>\n",
       "    </tr>\n",
       "    <tr>\n",
       "      <th>4</th>\n",
       "      <td>4</td>\n",
       "      <td>https://www.cdc.gov//mmwr/volumes/70/wr/mm7015...</td>\n",
       "      <td>Notes from the Field: Update on Excess Deaths ...</td>\n",
       "      <td>Estimates of excess deaths, defined as the num...</td>\n",
       "    </tr>\n",
       "  </tbody>\n",
       "</table>\n",
       "</div>"
      ],
      "text/plain": [
       "   count                                                url  \\\n",
       "0      0  https://www.cdc.gov//mmwr/volumes/70/wr/mm7015...   \n",
       "1      1  https://www.cdc.gov//mmwr/volumes/70/wr/mm7015...   \n",
       "2      2  https://www.cdc.gov//mmwr/volumes/70/wr/mm7015...   \n",
       "3      3  https://www.cdc.gov//mmwr/volumes/70/wr/mm7015...   \n",
       "4      4  https://www.cdc.gov//mmwr/volumes/70/wr/mm7015...   \n",
       "\n",
       "                                                name  \\\n",
       "0  Update: COVID-19 Pandemic–Associated Changes i...   \n",
       "1  Factors Associated with Participation in Eleme...   \n",
       "2  Trends in Racial and Ethnic Disparities in COV...   \n",
       "3  Emergency Department Visits for COVID-19 by Ra...   \n",
       "4  Notes from the Field: Update on Excess Deaths ...   \n",
       "\n",
       "                                                text  \n",
       "0  During March 29–April 25, 2020, emergency depa...  \n",
       "1  During December 3, 2020–January 31, 2021, CDC,...  \n",
       "2  Persons from racial and ethnic minority groups...  \n",
       "3  Hispanic or Latino (Hispanic), non-Hispanic Bl...  \n",
       "4  Estimates of excess deaths, defined as the num...  "
      ]
     },
     "execution_count": 3,
     "metadata": {},
     "output_type": "execute_result"
    }
   ],
   "source": [
    "df.head()"
   ]
  },
  {
   "cell_type": "code",
   "execution_count": 4,
   "metadata": {},
   "outputs": [],
   "source": [
    "text=df['text']"
   ]
  },
  {
   "cell_type": "code",
   "execution_count": 5,
   "metadata": {},
   "outputs": [
    {
     "name": "stderr",
     "output_type": "stream",
     "text": [
      "IOPub data rate exceeded.\n",
      "The notebook server will temporarily stop sending output\n",
      "to the client in order to avoid crashing it.\n",
      "To change this limit, set the config variable\n",
      "`--NotebookApp.iopub_data_rate_limit`.\n",
      "\n",
      "Current values:\n",
      "NotebookApp.iopub_data_rate_limit=1000000.0 (bytes/sec)\n",
      "NotebookApp.rate_limit_window=3.0 (secs)\n",
      "\n"
     ]
    }
   ],
   "source": [
    "for i in text:\n",
    "  words=i.split()\n",
    "  print(words)"
   ]
  },
  {
   "cell_type": "code",
   "execution_count": 6,
   "metadata": {},
   "outputs": [
    {
     "ename": "SyntaxError",
     "evalue": "invalid syntax (<ipython-input-6-d3bfc748244a>, line 1)",
     "output_type": "error",
     "traceback": [
      "\u001b[0;36m  File \u001b[0;32m\"<ipython-input-6-d3bfc748244a>\"\u001b[0;36m, line \u001b[0;32m1\u001b[0m\n\u001b[0;31m    jupyter notebook --NotebookApp.iopub_data_rate_limit=1.0e10\u001b[0m\n\u001b[0m            ^\u001b[0m\n\u001b[0;31mSyntaxError\u001b[0m\u001b[0;31m:\u001b[0m invalid syntax\n"
     ]
    }
   ],
   "source": [
    "jupyter notebook --NotebookApp.iopub_data_rate_limit=1.0e10"
   ]
  },
  {
   "cell_type": "code",
   "execution_count": null,
   "metadata": {},
   "outputs": [],
   "source": []
  }
 ],
 "metadata": {
  "kernelspec": {
   "display_name": "Python 3",
   "language": "python",
   "name": "python3"
  },
  "language_info": {
   "codemirror_mode": {
    "name": "ipython",
    "version": 3
   },
   "file_extension": ".py",
   "mimetype": "text/x-python",
   "name": "python",
   "nbconvert_exporter": "python",
   "pygments_lexer": "ipython3",
   "version": "3.8.3"
  }
 },
 "nbformat": 4,
 "nbformat_minor": 4
}
