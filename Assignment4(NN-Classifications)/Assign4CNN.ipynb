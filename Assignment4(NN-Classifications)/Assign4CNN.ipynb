{
  "nbformat": 4,
  "nbformat_minor": 0,
  "metadata": {
    "colab": {
      "name": "Assign4CNN.ipynb",
      "provenance": [],
      "collapsed_sections": [],
      "machine_shape": "hm"
    },
    "kernelspec": {
      "name": "python3",
      "display_name": "Python 3"
    },
    "language_info": {
      "name": "python"
    }
  },
  "cells": [
    {
      "cell_type": "markdown",
      "metadata": {
        "id": "9t0irZ78-5g1"
      },
      "source": [
        "##Ingest"
      ]
    },
    {
      "cell_type": "code",
      "metadata": {
        "id": "9Dhcid0AIYs4"
      },
      "source": [
        "import numpy as np\n",
        "import pandas as pd\n",
        "import string"
      ],
      "execution_count": null,
      "outputs": []
    },
    {
      "cell_type": "code",
      "metadata": {
        "id": "a_92or5e4O68"
      },
      "source": [
        "df=pd.read_json('News_Category_Dataset_v2.json',lines=True)"
      ],
      "execution_count": null,
      "outputs": []
    },
    {
      "cell_type": "markdown",
      "metadata": {
        "id": "bFeAQ8-m-8C2"
      },
      "source": [
        "##Preprocessing"
      ]
    },
    {
      "cell_type": "code",
      "metadata": {
        "id": "FeSU7W-k-7yJ"
      },
      "source": [
        ""
      ],
      "execution_count": null,
      "outputs": []
    },
    {
      "cell_type": "code",
      "metadata": {
        "colab": {
          "base_uri": "https://localhost:8080/"
        },
        "id": "Yk2SJJ6175qi",
        "outputId": "4982120e-5e06-4f48-8e7a-86f83a1c5434"
      },
      "source": [
        "df['category'].unique()"
      ],
      "execution_count": null,
      "outputs": [
        {
          "output_type": "execute_result",
          "data": {
            "text/plain": [
              "array(['CRIME', 'ENTERTAINMENT', 'WORLD NEWS', 'IMPACT', 'POLITICS',\n",
              "       'WEIRD NEWS', 'BLACK VOICES', 'WOMEN', 'COMEDY', 'QUEER VOICES',\n",
              "       'SPORTS', 'BUSINESS', 'TRAVEL', 'MEDIA', 'TECH', 'RELIGION',\n",
              "       'SCIENCE', 'LATINO VOICES', 'EDUCATION', 'COLLEGE', 'PARENTS',\n",
              "       'ARTS & CULTURE', 'STYLE', 'GREEN', 'TASTE', 'HEALTHY LIVING',\n",
              "       'THE WORLDPOST', 'GOOD NEWS', 'WORLDPOST', 'FIFTY', 'ARTS',\n",
              "       'WELLNESS', 'PARENTING', 'HOME & LIVING', 'STYLE & BEAUTY',\n",
              "       'DIVORCE', 'WEDDINGS', 'FOOD & DRINK', 'MONEY', 'ENVIRONMENT',\n",
              "       'CULTURE & ARTS'], dtype=object)"
            ]
          },
          "metadata": {
            "tags": []
          },
          "execution_count": 5
        }
      ]
    },
    {
      "cell_type": "code",
      "metadata": {
        "id": "3S01lKAL7JHR"
      },
      "source": [
        "lis=[ 'WORLD NEWS',\n",
        "       'SPORTS', 'MONEY',\n",
        "       'WOMEN','SCIENCE']"
      ],
      "execution_count": null,
      "outputs": []
    },
    {
      "cell_type": "code",
      "metadata": {
        "id": "8-M647_R7L25"
      },
      "source": [
        "df=df.loc[df['category'].isin(lis)]"
      ],
      "execution_count": null,
      "outputs": []
    },
    {
      "cell_type": "code",
      "metadata": {
        "id": "kqFJu_Ur8hV-"
      },
      "source": [
        "df=df.reset_index(drop=True)"
      ],
      "execution_count": null,
      "outputs": []
    },
    {
      "cell_type": "code",
      "metadata": {
        "id": "_RJHMq3r9KHO"
      },
      "source": [
        "df[\"text\"] = df[\"headline\"] + df[\"short_description\"] "
      ],
      "execution_count": null,
      "outputs": []
    },
    {
      "cell_type": "code",
      "metadata": {
        "colab": {
          "base_uri": "https://localhost:8080/",
          "height": 54
        },
        "id": "ExsqHH518cSy",
        "outputId": "7908ca09-ad41-470f-adb9-f25fd9a39f15"
      },
      "source": [
        "df['text'][1]"
      ],
      "execution_count": null,
      "outputs": [
        {
          "output_type": "execute_result",
          "data": {
            "application/vnd.google.colaboratory.intrinsic+json": {
              "type": "string"
            },
            "text/plain": [
              "'North Korea Still Open To Talks After Trump Cancels SummitTrump’s announcement came after repeated threats by North Korea to pull out of the summit over what it saw as confrontational remarks by U.S. officials.'"
            ]
          },
          "metadata": {
            "tags": []
          },
          "execution_count": 10
        }
      ]
    },
    {
      "cell_type": "code",
      "metadata": {
        "colab": {
          "base_uri": "https://localhost:8080/",
          "height": 1000
        },
        "id": "Iy9-sfdy9Xnl",
        "outputId": "8172f32c-3e9a-4de0-dca9-84a68001dd4b"
      },
      "source": [
        "df"
      ],
      "execution_count": null,
      "outputs": [
        {
          "output_type": "execute_result",
          "data": {
            "text/html": [
              "<div>\n",
              "<style scoped>\n",
              "    .dataframe tbody tr th:only-of-type {\n",
              "        vertical-align: middle;\n",
              "    }\n",
              "\n",
              "    .dataframe tbody tr th {\n",
              "        vertical-align: top;\n",
              "    }\n",
              "\n",
              "    .dataframe thead th {\n",
              "        text-align: right;\n",
              "    }\n",
              "</style>\n",
              "<table border=\"1\" class=\"dataframe\">\n",
              "  <thead>\n",
              "    <tr style=\"text-align: right;\">\n",
              "      <th></th>\n",
              "      <th>category</th>\n",
              "      <th>headline</th>\n",
              "      <th>authors</th>\n",
              "      <th>link</th>\n",
              "      <th>short_description</th>\n",
              "      <th>date</th>\n",
              "      <th>text</th>\n",
              "    </tr>\n",
              "  </thead>\n",
              "  <tbody>\n",
              "    <tr>\n",
              "      <th>0</th>\n",
              "      <td>WORLD NEWS</td>\n",
              "      <td>South Korean President Meets North Korea's Kim...</td>\n",
              "      <td></td>\n",
              "      <td>https://www.huffingtonpost.com/entry/south-kor...</td>\n",
              "      <td>The two met to pave the way for a summit betwe...</td>\n",
              "      <td>2018-05-26</td>\n",
              "      <td>South Korean President Meets North Korea's Kim...</td>\n",
              "    </tr>\n",
              "    <tr>\n",
              "      <th>1</th>\n",
              "      <td>WORLD NEWS</td>\n",
              "      <td>North Korea Still Open To Talks After Trump Ca...</td>\n",
              "      <td>Josh Smith and Christine Kim, Reuters</td>\n",
              "      <td>https://www.huffingtonpost.com/entry/north-kor...</td>\n",
              "      <td>Trump’s announcement came after repeated threa...</td>\n",
              "      <td>2018-05-25</td>\n",
              "      <td>North Korea Still Open To Talks After Trump Ca...</td>\n",
              "    </tr>\n",
              "    <tr>\n",
              "      <th>2</th>\n",
              "      <td>WORLD NEWS</td>\n",
              "      <td>2 Men Detonate Bomb Inside Indian Restaurant N...</td>\n",
              "      <td></td>\n",
              "      <td>https://www.huffingtonpost.com/entry/mississau...</td>\n",
              "      <td>Fifteen people were taken to the hospital, thr...</td>\n",
              "      <td>2018-05-25</td>\n",
              "      <td>2 Men Detonate Bomb Inside Indian Restaurant N...</td>\n",
              "    </tr>\n",
              "    <tr>\n",
              "      <th>3</th>\n",
              "      <td>WORLD NEWS</td>\n",
              "      <td>Thousands Travel Home To Ireland To Vote On Ab...</td>\n",
              "      <td>Antonia Blumberg</td>\n",
              "      <td>https://www.huffingtonpost.com/entry/irish-tra...</td>\n",
              "      <td>Just try to read these #HomeToVote tweets with...</td>\n",
              "      <td>2018-05-25</td>\n",
              "      <td>Thousands Travel Home To Ireland To Vote On Ab...</td>\n",
              "    </tr>\n",
              "    <tr>\n",
              "      <th>4</th>\n",
              "      <td>WORLD NEWS</td>\n",
              "      <td>Irish Voters Set To Liberalize Abortion Laws I...</td>\n",
              "      <td></td>\n",
              "      <td>https://www.huffingtonpost.com/entry/ireland-a...</td>\n",
              "      <td>Vote counting will begin Saturday.</td>\n",
              "      <td>2018-05-25</td>\n",
              "      <td>Irish Voters Set To Liberalize Abortion Laws I...</td>\n",
              "    </tr>\n",
              "    <tr>\n",
              "      <th>...</th>\n",
              "      <td>...</td>\n",
              "      <td>...</td>\n",
              "      <td>...</td>\n",
              "      <td>...</td>\n",
              "      <td>...</td>\n",
              "      <td>...</td>\n",
              "      <td>...</td>\n",
              "    </tr>\n",
              "    <tr>\n",
              "      <th>14431</th>\n",
              "      <td>SCIENCE</td>\n",
              "      <td>Aurora Borealis Caused By Huge Solar Storm Shi...</td>\n",
              "      <td></td>\n",
              "      <td>https://www.huffingtonpost.com/entry/aurora-fr...</td>\n",
              "      <td>Aurora borealis can typically only be seen at ...</td>\n",
              "      <td>2012-01-28</td>\n",
              "      <td>Aurora Borealis Caused By Huge Solar Storm Shi...</td>\n",
              "    </tr>\n",
              "    <tr>\n",
              "      <th>14432</th>\n",
              "      <td>SPORTS</td>\n",
              "      <td>Maria Sharapova Stunned By Victoria Azarenka I...</td>\n",
              "      <td></td>\n",
              "      <td>https://www.huffingtonpost.com/entry/maria-sha...</td>\n",
              "      <td>Afterward, Azarenka, more effusive with the pr...</td>\n",
              "      <td>2012-01-28</td>\n",
              "      <td>Maria Sharapova Stunned By Victoria Azarenka I...</td>\n",
              "    </tr>\n",
              "    <tr>\n",
              "      <th>14433</th>\n",
              "      <td>SPORTS</td>\n",
              "      <td>Giants Over Patriots, Jets Over Colts Among  M...</td>\n",
              "      <td></td>\n",
              "      <td>https://www.huffingtonpost.com/entry/super-bow...</td>\n",
              "      <td>Leading up to Super Bowl XLVI, the most talked...</td>\n",
              "      <td>2012-01-28</td>\n",
              "      <td>Giants Over Patriots, Jets Over Colts Among  M...</td>\n",
              "    </tr>\n",
              "    <tr>\n",
              "      <th>14434</th>\n",
              "      <td>SPORTS</td>\n",
              "      <td>Aldon Smith Arrested: 49ers Linebacker Busted ...</td>\n",
              "      <td></td>\n",
              "      <td>https://www.huffingtonpost.com/entry/aldon-smi...</td>\n",
              "      <td>CORRECTION: An earlier version of this story i...</td>\n",
              "      <td>2012-01-28</td>\n",
              "      <td>Aldon Smith Arrested: 49ers Linebacker Busted ...</td>\n",
              "    </tr>\n",
              "    <tr>\n",
              "      <th>14435</th>\n",
              "      <td>SPORTS</td>\n",
              "      <td>Dwight Howard Rips Teammates After Magic Loss ...</td>\n",
              "      <td></td>\n",
              "      <td>https://www.huffingtonpost.com/entry/dwight-ho...</td>\n",
              "      <td>The five-time all-star center tore into his te...</td>\n",
              "      <td>2012-01-28</td>\n",
              "      <td>Dwight Howard Rips Teammates After Magic Loss ...</td>\n",
              "    </tr>\n",
              "  </tbody>\n",
              "</table>\n",
              "<p>14436 rows × 7 columns</p>\n",
              "</div>"
            ],
            "text/plain": [
              "         category  ...                                               text\n",
              "0      WORLD NEWS  ...  South Korean President Meets North Korea's Kim...\n",
              "1      WORLD NEWS  ...  North Korea Still Open To Talks After Trump Ca...\n",
              "2      WORLD NEWS  ...  2 Men Detonate Bomb Inside Indian Restaurant N...\n",
              "3      WORLD NEWS  ...  Thousands Travel Home To Ireland To Vote On Ab...\n",
              "4      WORLD NEWS  ...  Irish Voters Set To Liberalize Abortion Laws I...\n",
              "...           ...  ...                                                ...\n",
              "14431     SCIENCE  ...  Aurora Borealis Caused By Huge Solar Storm Shi...\n",
              "14432      SPORTS  ...  Maria Sharapova Stunned By Victoria Azarenka I...\n",
              "14433      SPORTS  ...  Giants Over Patriots, Jets Over Colts Among  M...\n",
              "14434      SPORTS  ...  Aldon Smith Arrested: 49ers Linebacker Busted ...\n",
              "14435      SPORTS  ...  Dwight Howard Rips Teammates After Magic Loss ...\n",
              "\n",
              "[14436 rows x 7 columns]"
            ]
          },
          "metadata": {
            "tags": []
          },
          "execution_count": 11
        }
      ]
    },
    {
      "cell_type": "code",
      "metadata": {
        "id": "5mVOuw1G8c7j"
      },
      "source": [
        "def removePunct(txt):\n",
        "  txt_nopunct=\"\".join([c for c in txt if c not in string.punctuation])\n",
        "  return txt_nopunct"
      ],
      "execution_count": null,
      "outputs": []
    },
    {
      "cell_type": "code",
      "metadata": {
        "colab": {
          "base_uri": "https://localhost:8080/",
          "height": 629
        },
        "id": "qYZiNuse8mOh",
        "outputId": "fd69a30c-0c42-4e97-ae53-6b2f33e3058c"
      },
      "source": [
        "df['textClean']=df['text'].apply(lambda x:removePunct(x))\n",
        "df.head()"
      ],
      "execution_count": null,
      "outputs": [
        {
          "output_type": "execute_result",
          "data": {
            "text/html": [
              "<div>\n",
              "<style scoped>\n",
              "    .dataframe tbody tr th:only-of-type {\n",
              "        vertical-align: middle;\n",
              "    }\n",
              "\n",
              "    .dataframe tbody tr th {\n",
              "        vertical-align: top;\n",
              "    }\n",
              "\n",
              "    .dataframe thead th {\n",
              "        text-align: right;\n",
              "    }\n",
              "</style>\n",
              "<table border=\"1\" class=\"dataframe\">\n",
              "  <thead>\n",
              "    <tr style=\"text-align: right;\">\n",
              "      <th></th>\n",
              "      <th>category</th>\n",
              "      <th>headline</th>\n",
              "      <th>authors</th>\n",
              "      <th>link</th>\n",
              "      <th>short_description</th>\n",
              "      <th>date</th>\n",
              "      <th>text</th>\n",
              "      <th>textClean</th>\n",
              "    </tr>\n",
              "  </thead>\n",
              "  <tbody>\n",
              "    <tr>\n",
              "      <th>0</th>\n",
              "      <td>WORLD NEWS</td>\n",
              "      <td>South Korean President Meets North Korea's Kim...</td>\n",
              "      <td></td>\n",
              "      <td>https://www.huffingtonpost.com/entry/south-kor...</td>\n",
              "      <td>The two met to pave the way for a summit betwe...</td>\n",
              "      <td>2018-05-26</td>\n",
              "      <td>South Korean President Meets North Korea's Kim...</td>\n",
              "      <td>South Korean President Meets North Koreas Kim ...</td>\n",
              "    </tr>\n",
              "    <tr>\n",
              "      <th>1</th>\n",
              "      <td>WORLD NEWS</td>\n",
              "      <td>North Korea Still Open To Talks After Trump Ca...</td>\n",
              "      <td>Josh Smith and Christine Kim, Reuters</td>\n",
              "      <td>https://www.huffingtonpost.com/entry/north-kor...</td>\n",
              "      <td>Trump’s announcement came after repeated threa...</td>\n",
              "      <td>2018-05-25</td>\n",
              "      <td>North Korea Still Open To Talks After Trump Ca...</td>\n",
              "      <td>North Korea Still Open To Talks After Trump Ca...</td>\n",
              "    </tr>\n",
              "    <tr>\n",
              "      <th>2</th>\n",
              "      <td>WORLD NEWS</td>\n",
              "      <td>2 Men Detonate Bomb Inside Indian Restaurant N...</td>\n",
              "      <td></td>\n",
              "      <td>https://www.huffingtonpost.com/entry/mississau...</td>\n",
              "      <td>Fifteen people were taken to the hospital, thr...</td>\n",
              "      <td>2018-05-25</td>\n",
              "      <td>2 Men Detonate Bomb Inside Indian Restaurant N...</td>\n",
              "      <td>2 Men Detonate Bomb Inside Indian Restaurant N...</td>\n",
              "    </tr>\n",
              "    <tr>\n",
              "      <th>3</th>\n",
              "      <td>WORLD NEWS</td>\n",
              "      <td>Thousands Travel Home To Ireland To Vote On Ab...</td>\n",
              "      <td>Antonia Blumberg</td>\n",
              "      <td>https://www.huffingtonpost.com/entry/irish-tra...</td>\n",
              "      <td>Just try to read these #HomeToVote tweets with...</td>\n",
              "      <td>2018-05-25</td>\n",
              "      <td>Thousands Travel Home To Ireland To Vote On Ab...</td>\n",
              "      <td>Thousands Travel Home To Ireland To Vote On Ab...</td>\n",
              "    </tr>\n",
              "    <tr>\n",
              "      <th>4</th>\n",
              "      <td>WORLD NEWS</td>\n",
              "      <td>Irish Voters Set To Liberalize Abortion Laws I...</td>\n",
              "      <td></td>\n",
              "      <td>https://www.huffingtonpost.com/entry/ireland-a...</td>\n",
              "      <td>Vote counting will begin Saturday.</td>\n",
              "      <td>2018-05-25</td>\n",
              "      <td>Irish Voters Set To Liberalize Abortion Laws I...</td>\n",
              "      <td>Irish Voters Set To Liberalize Abortion Laws I...</td>\n",
              "    </tr>\n",
              "  </tbody>\n",
              "</table>\n",
              "</div>"
            ],
            "text/plain": [
              "     category  ...                                          textClean\n",
              "0  WORLD NEWS  ...  South Korean President Meets North Koreas Kim ...\n",
              "1  WORLD NEWS  ...  North Korea Still Open To Talks After Trump Ca...\n",
              "2  WORLD NEWS  ...  2 Men Detonate Bomb Inside Indian Restaurant N...\n",
              "3  WORLD NEWS  ...  Thousands Travel Home To Ireland To Vote On Ab...\n",
              "4  WORLD NEWS  ...  Irish Voters Set To Liberalize Abortion Laws I...\n",
              "\n",
              "[5 rows x 8 columns]"
            ]
          },
          "metadata": {
            "tags": []
          },
          "execution_count": 13
        }
      ]
    },
    {
      "cell_type": "code",
      "metadata": {
        "id": "tYk-r_328nOm"
      },
      "source": [
        "import re"
      ],
      "execution_count": null,
      "outputs": []
    },
    {
      "cell_type": "code",
      "metadata": {
        "id": "zdl5txF78rwd"
      },
      "source": [
        "def tokenize(txt):\n",
        "  tokens=re.split('\\W+',txt)\n",
        "  return tokens"
      ],
      "execution_count": null,
      "outputs": []
    },
    {
      "cell_type": "code",
      "metadata": {
        "colab": {
          "base_uri": "https://localhost:8080/",
          "height": 663
        },
        "id": "_XXqeLcU9nOI",
        "outputId": "ec74d494-a08a-466d-bb6b-f4cd89fe65be"
      },
      "source": [
        "df['textCleanToken']=df['textClean'].apply(lambda x:tokenize(x.lower()))\n",
        "df.head()"
      ],
      "execution_count": null,
      "outputs": [
        {
          "output_type": "execute_result",
          "data": {
            "text/html": [
              "<div>\n",
              "<style scoped>\n",
              "    .dataframe tbody tr th:only-of-type {\n",
              "        vertical-align: middle;\n",
              "    }\n",
              "\n",
              "    .dataframe tbody tr th {\n",
              "        vertical-align: top;\n",
              "    }\n",
              "\n",
              "    .dataframe thead th {\n",
              "        text-align: right;\n",
              "    }\n",
              "</style>\n",
              "<table border=\"1\" class=\"dataframe\">\n",
              "  <thead>\n",
              "    <tr style=\"text-align: right;\">\n",
              "      <th></th>\n",
              "      <th>category</th>\n",
              "      <th>headline</th>\n",
              "      <th>authors</th>\n",
              "      <th>link</th>\n",
              "      <th>short_description</th>\n",
              "      <th>date</th>\n",
              "      <th>text</th>\n",
              "      <th>textClean</th>\n",
              "      <th>textCleanToken</th>\n",
              "    </tr>\n",
              "  </thead>\n",
              "  <tbody>\n",
              "    <tr>\n",
              "      <th>0</th>\n",
              "      <td>WORLD NEWS</td>\n",
              "      <td>South Korean President Meets North Korea's Kim...</td>\n",
              "      <td></td>\n",
              "      <td>https://www.huffingtonpost.com/entry/south-kor...</td>\n",
              "      <td>The two met to pave the way for a summit betwe...</td>\n",
              "      <td>2018-05-26</td>\n",
              "      <td>South Korean President Meets North Korea's Kim...</td>\n",
              "      <td>South Korean President Meets North Koreas Kim ...</td>\n",
              "      <td>[south, korean, president, meets, north, korea...</td>\n",
              "    </tr>\n",
              "    <tr>\n",
              "      <th>1</th>\n",
              "      <td>WORLD NEWS</td>\n",
              "      <td>North Korea Still Open To Talks After Trump Ca...</td>\n",
              "      <td>Josh Smith and Christine Kim, Reuters</td>\n",
              "      <td>https://www.huffingtonpost.com/entry/north-kor...</td>\n",
              "      <td>Trump’s announcement came after repeated threa...</td>\n",
              "      <td>2018-05-25</td>\n",
              "      <td>North Korea Still Open To Talks After Trump Ca...</td>\n",
              "      <td>North Korea Still Open To Talks After Trump Ca...</td>\n",
              "      <td>[north, korea, still, open, to, talks, after, ...</td>\n",
              "    </tr>\n",
              "    <tr>\n",
              "      <th>2</th>\n",
              "      <td>WORLD NEWS</td>\n",
              "      <td>2 Men Detonate Bomb Inside Indian Restaurant N...</td>\n",
              "      <td></td>\n",
              "      <td>https://www.huffingtonpost.com/entry/mississau...</td>\n",
              "      <td>Fifteen people were taken to the hospital, thr...</td>\n",
              "      <td>2018-05-25</td>\n",
              "      <td>2 Men Detonate Bomb Inside Indian Restaurant N...</td>\n",
              "      <td>2 Men Detonate Bomb Inside Indian Restaurant N...</td>\n",
              "      <td>[2, men, detonate, bomb, inside, indian, resta...</td>\n",
              "    </tr>\n",
              "    <tr>\n",
              "      <th>3</th>\n",
              "      <td>WORLD NEWS</td>\n",
              "      <td>Thousands Travel Home To Ireland To Vote On Ab...</td>\n",
              "      <td>Antonia Blumberg</td>\n",
              "      <td>https://www.huffingtonpost.com/entry/irish-tra...</td>\n",
              "      <td>Just try to read these #HomeToVote tweets with...</td>\n",
              "      <td>2018-05-25</td>\n",
              "      <td>Thousands Travel Home To Ireland To Vote On Ab...</td>\n",
              "      <td>Thousands Travel Home To Ireland To Vote On Ab...</td>\n",
              "      <td>[thousands, travel, home, to, ireland, to, vot...</td>\n",
              "    </tr>\n",
              "    <tr>\n",
              "      <th>4</th>\n",
              "      <td>WORLD NEWS</td>\n",
              "      <td>Irish Voters Set To Liberalize Abortion Laws I...</td>\n",
              "      <td></td>\n",
              "      <td>https://www.huffingtonpost.com/entry/ireland-a...</td>\n",
              "      <td>Vote counting will begin Saturday.</td>\n",
              "      <td>2018-05-25</td>\n",
              "      <td>Irish Voters Set To Liberalize Abortion Laws I...</td>\n",
              "      <td>Irish Voters Set To Liberalize Abortion Laws I...</td>\n",
              "      <td>[irish, voters, set, to, liberalize, abortion,...</td>\n",
              "    </tr>\n",
              "  </tbody>\n",
              "</table>\n",
              "</div>"
            ],
            "text/plain": [
              "     category  ...                                     textCleanToken\n",
              "0  WORLD NEWS  ...  [south, korean, president, meets, north, korea...\n",
              "1  WORLD NEWS  ...  [north, korea, still, open, to, talks, after, ...\n",
              "2  WORLD NEWS  ...  [2, men, detonate, bomb, inside, indian, resta...\n",
              "3  WORLD NEWS  ...  [thousands, travel, home, to, ireland, to, vot...\n",
              "4  WORLD NEWS  ...  [irish, voters, set, to, liberalize, abortion,...\n",
              "\n",
              "[5 rows x 9 columns]"
            ]
          },
          "metadata": {
            "tags": []
          },
          "execution_count": 16
        }
      ]
    },
    {
      "cell_type": "code",
      "metadata": {
        "colab": {
          "base_uri": "https://localhost:8080/"
        },
        "id": "eePVWA7a9pW1",
        "outputId": "2fa81dcc-0291-4fb4-c6ef-01cb3308edcc"
      },
      "source": [
        "import nltk\n",
        "nltk.download('stopwords')\n",
        "stopwords=nltk.corpus.stopwords.words('english')"
      ],
      "execution_count": null,
      "outputs": [
        {
          "output_type": "stream",
          "text": [
            "[nltk_data] Downloading package stopwords to /root/nltk_data...\n",
            "[nltk_data]   Unzipping corpora/stopwords.zip.\n"
          ],
          "name": "stdout"
        }
      ]
    },
    {
      "cell_type": "code",
      "metadata": {
        "id": "XiHh2Q4d9sO4"
      },
      "source": [
        "def removeStopwords(txt):\n",
        "  txt_clean=[word for word in txt if word not in stopwords]\n",
        "  return txt_clean"
      ],
      "execution_count": null,
      "outputs": []
    },
    {
      "cell_type": "code",
      "metadata": {
        "colab": {
          "base_uri": "https://localhost:8080/",
          "height": 683
        },
        "id": "9QNnGNcM9t13",
        "outputId": "36242355-e510-4d77-d939-3fb2099474ae"
      },
      "source": [
        "df['noStopwords']=df['textCleanToken'].apply(lambda x: removeStopwords(x))\n",
        "df.head()"
      ],
      "execution_count": null,
      "outputs": [
        {
          "output_type": "execute_result",
          "data": {
            "text/html": [
              "<div>\n",
              "<style scoped>\n",
              "    .dataframe tbody tr th:only-of-type {\n",
              "        vertical-align: middle;\n",
              "    }\n",
              "\n",
              "    .dataframe tbody tr th {\n",
              "        vertical-align: top;\n",
              "    }\n",
              "\n",
              "    .dataframe thead th {\n",
              "        text-align: right;\n",
              "    }\n",
              "</style>\n",
              "<table border=\"1\" class=\"dataframe\">\n",
              "  <thead>\n",
              "    <tr style=\"text-align: right;\">\n",
              "      <th></th>\n",
              "      <th>category</th>\n",
              "      <th>headline</th>\n",
              "      <th>authors</th>\n",
              "      <th>link</th>\n",
              "      <th>short_description</th>\n",
              "      <th>date</th>\n",
              "      <th>text</th>\n",
              "      <th>textClean</th>\n",
              "      <th>textCleanToken</th>\n",
              "      <th>noStopwords</th>\n",
              "    </tr>\n",
              "  </thead>\n",
              "  <tbody>\n",
              "    <tr>\n",
              "      <th>0</th>\n",
              "      <td>WORLD NEWS</td>\n",
              "      <td>South Korean President Meets North Korea's Kim...</td>\n",
              "      <td></td>\n",
              "      <td>https://www.huffingtonpost.com/entry/south-kor...</td>\n",
              "      <td>The two met to pave the way for a summit betwe...</td>\n",
              "      <td>2018-05-26</td>\n",
              "      <td>South Korean President Meets North Korea's Kim...</td>\n",
              "      <td>South Korean President Meets North Koreas Kim ...</td>\n",
              "      <td>[south, korean, president, meets, north, korea...</td>\n",
              "      <td>[south, korean, president, meets, north, korea...</td>\n",
              "    </tr>\n",
              "    <tr>\n",
              "      <th>1</th>\n",
              "      <td>WORLD NEWS</td>\n",
              "      <td>North Korea Still Open To Talks After Trump Ca...</td>\n",
              "      <td>Josh Smith and Christine Kim, Reuters</td>\n",
              "      <td>https://www.huffingtonpost.com/entry/north-kor...</td>\n",
              "      <td>Trump’s announcement came after repeated threa...</td>\n",
              "      <td>2018-05-25</td>\n",
              "      <td>North Korea Still Open To Talks After Trump Ca...</td>\n",
              "      <td>North Korea Still Open To Talks After Trump Ca...</td>\n",
              "      <td>[north, korea, still, open, to, talks, after, ...</td>\n",
              "      <td>[north, korea, still, open, talks, trump, canc...</td>\n",
              "    </tr>\n",
              "    <tr>\n",
              "      <th>2</th>\n",
              "      <td>WORLD NEWS</td>\n",
              "      <td>2 Men Detonate Bomb Inside Indian Restaurant N...</td>\n",
              "      <td></td>\n",
              "      <td>https://www.huffingtonpost.com/entry/mississau...</td>\n",
              "      <td>Fifteen people were taken to the hospital, thr...</td>\n",
              "      <td>2018-05-25</td>\n",
              "      <td>2 Men Detonate Bomb Inside Indian Restaurant N...</td>\n",
              "      <td>2 Men Detonate Bomb Inside Indian Restaurant N...</td>\n",
              "      <td>[2, men, detonate, bomb, inside, indian, resta...</td>\n",
              "      <td>[2, men, detonate, bomb, inside, indian, resta...</td>\n",
              "    </tr>\n",
              "    <tr>\n",
              "      <th>3</th>\n",
              "      <td>WORLD NEWS</td>\n",
              "      <td>Thousands Travel Home To Ireland To Vote On Ab...</td>\n",
              "      <td>Antonia Blumberg</td>\n",
              "      <td>https://www.huffingtonpost.com/entry/irish-tra...</td>\n",
              "      <td>Just try to read these #HomeToVote tweets with...</td>\n",
              "      <td>2018-05-25</td>\n",
              "      <td>Thousands Travel Home To Ireland To Vote On Ab...</td>\n",
              "      <td>Thousands Travel Home To Ireland To Vote On Ab...</td>\n",
              "      <td>[thousands, travel, home, to, ireland, to, vot...</td>\n",
              "      <td>[thousands, travel, home, ireland, vote, abort...</td>\n",
              "    </tr>\n",
              "    <tr>\n",
              "      <th>4</th>\n",
              "      <td>WORLD NEWS</td>\n",
              "      <td>Irish Voters Set To Liberalize Abortion Laws I...</td>\n",
              "      <td></td>\n",
              "      <td>https://www.huffingtonpost.com/entry/ireland-a...</td>\n",
              "      <td>Vote counting will begin Saturday.</td>\n",
              "      <td>2018-05-25</td>\n",
              "      <td>Irish Voters Set To Liberalize Abortion Laws I...</td>\n",
              "      <td>Irish Voters Set To Liberalize Abortion Laws I...</td>\n",
              "      <td>[irish, voters, set, to, liberalize, abortion,...</td>\n",
              "      <td>[irish, voters, set, liberalize, abortion, law...</td>\n",
              "    </tr>\n",
              "  </tbody>\n",
              "</table>\n",
              "</div>"
            ],
            "text/plain": [
              "     category  ...                                        noStopwords\n",
              "0  WORLD NEWS  ...  [south, korean, president, meets, north, korea...\n",
              "1  WORLD NEWS  ...  [north, korea, still, open, talks, trump, canc...\n",
              "2  WORLD NEWS  ...  [2, men, detonate, bomb, inside, indian, resta...\n",
              "3  WORLD NEWS  ...  [thousands, travel, home, ireland, vote, abort...\n",
              "4  WORLD NEWS  ...  [irish, voters, set, liberalize, abortion, law...\n",
              "\n",
              "[5 rows x 10 columns]"
            ]
          },
          "metadata": {
            "tags": []
          },
          "execution_count": 19
        }
      ]
    },
    {
      "cell_type": "code",
      "metadata": {
        "id": "6mORgLty9wPz"
      },
      "source": [
        "from nltk.stem import PorterStemmer\n",
        "ps=PorterStemmer()\n",
        "def stemming(token_txt):\n",
        "  text=[ps.stem(word) for word in token_txt]\n",
        "  return text"
      ],
      "execution_count": null,
      "outputs": []
    },
    {
      "cell_type": "code",
      "metadata": {
        "colab": {
          "base_uri": "https://localhost:8080/",
          "height": 683
        },
        "id": "JdMsg5Cz90QK",
        "outputId": "ffcd6a84-aa5a-425b-dcdb-3058c9862671"
      },
      "source": [
        "df['stemmed']=df['noStopwords'].apply(lambda x: stemming(x))\n",
        "df.head()"
      ],
      "execution_count": null,
      "outputs": [
        {
          "output_type": "execute_result",
          "data": {
            "text/html": [
              "<div>\n",
              "<style scoped>\n",
              "    .dataframe tbody tr th:only-of-type {\n",
              "        vertical-align: middle;\n",
              "    }\n",
              "\n",
              "    .dataframe tbody tr th {\n",
              "        vertical-align: top;\n",
              "    }\n",
              "\n",
              "    .dataframe thead th {\n",
              "        text-align: right;\n",
              "    }\n",
              "</style>\n",
              "<table border=\"1\" class=\"dataframe\">\n",
              "  <thead>\n",
              "    <tr style=\"text-align: right;\">\n",
              "      <th></th>\n",
              "      <th>category</th>\n",
              "      <th>headline</th>\n",
              "      <th>authors</th>\n",
              "      <th>link</th>\n",
              "      <th>short_description</th>\n",
              "      <th>date</th>\n",
              "      <th>text</th>\n",
              "      <th>textClean</th>\n",
              "      <th>textCleanToken</th>\n",
              "      <th>noStopwords</th>\n",
              "      <th>stemmed</th>\n",
              "    </tr>\n",
              "  </thead>\n",
              "  <tbody>\n",
              "    <tr>\n",
              "      <th>0</th>\n",
              "      <td>WORLD NEWS</td>\n",
              "      <td>South Korean President Meets North Korea's Kim...</td>\n",
              "      <td></td>\n",
              "      <td>https://www.huffingtonpost.com/entry/south-kor...</td>\n",
              "      <td>The two met to pave the way for a summit betwe...</td>\n",
              "      <td>2018-05-26</td>\n",
              "      <td>South Korean President Meets North Korea's Kim...</td>\n",
              "      <td>South Korean President Meets North Koreas Kim ...</td>\n",
              "      <td>[south, korean, president, meets, north, korea...</td>\n",
              "      <td>[south, korean, president, meets, north, korea...</td>\n",
              "      <td>[south, korean, presid, meet, north, korea, ki...</td>\n",
              "    </tr>\n",
              "    <tr>\n",
              "      <th>1</th>\n",
              "      <td>WORLD NEWS</td>\n",
              "      <td>North Korea Still Open To Talks After Trump Ca...</td>\n",
              "      <td>Josh Smith and Christine Kim, Reuters</td>\n",
              "      <td>https://www.huffingtonpost.com/entry/north-kor...</td>\n",
              "      <td>Trump’s announcement came after repeated threa...</td>\n",
              "      <td>2018-05-25</td>\n",
              "      <td>North Korea Still Open To Talks After Trump Ca...</td>\n",
              "      <td>North Korea Still Open To Talks After Trump Ca...</td>\n",
              "      <td>[north, korea, still, open, to, talks, after, ...</td>\n",
              "      <td>[north, korea, still, open, talks, trump, canc...</td>\n",
              "      <td>[north, korea, still, open, talk, trump, cance...</td>\n",
              "    </tr>\n",
              "    <tr>\n",
              "      <th>2</th>\n",
              "      <td>WORLD NEWS</td>\n",
              "      <td>2 Men Detonate Bomb Inside Indian Restaurant N...</td>\n",
              "      <td></td>\n",
              "      <td>https://www.huffingtonpost.com/entry/mississau...</td>\n",
              "      <td>Fifteen people were taken to the hospital, thr...</td>\n",
              "      <td>2018-05-25</td>\n",
              "      <td>2 Men Detonate Bomb Inside Indian Restaurant N...</td>\n",
              "      <td>2 Men Detonate Bomb Inside Indian Restaurant N...</td>\n",
              "      <td>[2, men, detonate, bomb, inside, indian, resta...</td>\n",
              "      <td>[2, men, detonate, bomb, inside, indian, resta...</td>\n",
              "      <td>[2, men, deton, bomb, insid, indian, restaur, ...</td>\n",
              "    </tr>\n",
              "    <tr>\n",
              "      <th>3</th>\n",
              "      <td>WORLD NEWS</td>\n",
              "      <td>Thousands Travel Home To Ireland To Vote On Ab...</td>\n",
              "      <td>Antonia Blumberg</td>\n",
              "      <td>https://www.huffingtonpost.com/entry/irish-tra...</td>\n",
              "      <td>Just try to read these #HomeToVote tweets with...</td>\n",
              "      <td>2018-05-25</td>\n",
              "      <td>Thousands Travel Home To Ireland To Vote On Ab...</td>\n",
              "      <td>Thousands Travel Home To Ireland To Vote On Ab...</td>\n",
              "      <td>[thousands, travel, home, to, ireland, to, vot...</td>\n",
              "      <td>[thousands, travel, home, ireland, vote, abort...</td>\n",
              "      <td>[thousand, travel, home, ireland, vote, abort,...</td>\n",
              "    </tr>\n",
              "    <tr>\n",
              "      <th>4</th>\n",
              "      <td>WORLD NEWS</td>\n",
              "      <td>Irish Voters Set To Liberalize Abortion Laws I...</td>\n",
              "      <td></td>\n",
              "      <td>https://www.huffingtonpost.com/entry/ireland-a...</td>\n",
              "      <td>Vote counting will begin Saturday.</td>\n",
              "      <td>2018-05-25</td>\n",
              "      <td>Irish Voters Set To Liberalize Abortion Laws I...</td>\n",
              "      <td>Irish Voters Set To Liberalize Abortion Laws I...</td>\n",
              "      <td>[irish, voters, set, to, liberalize, abortion,...</td>\n",
              "      <td>[irish, voters, set, liberalize, abortion, law...</td>\n",
              "      <td>[irish, voter, set, liber, abort, law, landsli...</td>\n",
              "    </tr>\n",
              "  </tbody>\n",
              "</table>\n",
              "</div>"
            ],
            "text/plain": [
              "     category  ...                                            stemmed\n",
              "0  WORLD NEWS  ...  [south, korean, presid, meet, north, korea, ki...\n",
              "1  WORLD NEWS  ...  [north, korea, still, open, talk, trump, cance...\n",
              "2  WORLD NEWS  ...  [2, men, deton, bomb, insid, indian, restaur, ...\n",
              "3  WORLD NEWS  ...  [thousand, travel, home, ireland, vote, abort,...\n",
              "4  WORLD NEWS  ...  [irish, voter, set, liber, abort, law, landsli...\n",
              "\n",
              "[5 rows x 11 columns]"
            ]
          },
          "metadata": {
            "tags": []
          },
          "execution_count": 21
        }
      ]
    },
    {
      "cell_type": "code",
      "metadata": {
        "id": "3A0OUVHH92Yq"
      },
      "source": [
        "def cleanWords(text):\n",
        "  txt=\"\".join([p for p in text if p not in string.punctuation])\n",
        "  tokens=re.split(\"\\W+\",txt)\n",
        "  txt=[ps.stem(word) for word in tokens if word not in stopwords]"
      ],
      "execution_count": null,
      "outputs": []
    },
    {
      "cell_type": "code",
      "metadata": {
        "id": "ZjZ1a0si97QQ"
      },
      "source": [
        "def listToString(s): \n",
        "    \n",
        "    # initialize an empty string\n",
        "    str1 = \" \" \n",
        "    \n",
        "    # return string  \n",
        "    return (str1.join(s))"
      ],
      "execution_count": null,
      "outputs": []
    },
    {
      "cell_type": "code",
      "metadata": {
        "colab": {
          "base_uri": "https://localhost:8080/",
          "height": 751
        },
        "id": "0xTFRhJk9-EL",
        "outputId": "0942a7a7-4e49-4c1b-f702-73cd4dcdb36b"
      },
      "source": [
        "df['string']=df['stemmed'].apply(lambda x: listToString(x))\n",
        "df.head()"
      ],
      "execution_count": null,
      "outputs": [
        {
          "output_type": "execute_result",
          "data": {
            "text/html": [
              "<div>\n",
              "<style scoped>\n",
              "    .dataframe tbody tr th:only-of-type {\n",
              "        vertical-align: middle;\n",
              "    }\n",
              "\n",
              "    .dataframe tbody tr th {\n",
              "        vertical-align: top;\n",
              "    }\n",
              "\n",
              "    .dataframe thead th {\n",
              "        text-align: right;\n",
              "    }\n",
              "</style>\n",
              "<table border=\"1\" class=\"dataframe\">\n",
              "  <thead>\n",
              "    <tr style=\"text-align: right;\">\n",
              "      <th></th>\n",
              "      <th>category</th>\n",
              "      <th>headline</th>\n",
              "      <th>authors</th>\n",
              "      <th>link</th>\n",
              "      <th>short_description</th>\n",
              "      <th>date</th>\n",
              "      <th>text</th>\n",
              "      <th>textClean</th>\n",
              "      <th>textCleanToken</th>\n",
              "      <th>noStopwords</th>\n",
              "      <th>stemmed</th>\n",
              "      <th>string</th>\n",
              "    </tr>\n",
              "  </thead>\n",
              "  <tbody>\n",
              "    <tr>\n",
              "      <th>0</th>\n",
              "      <td>WORLD NEWS</td>\n",
              "      <td>South Korean President Meets North Korea's Kim...</td>\n",
              "      <td></td>\n",
              "      <td>https://www.huffingtonpost.com/entry/south-kor...</td>\n",
              "      <td>The two met to pave the way for a summit betwe...</td>\n",
              "      <td>2018-05-26</td>\n",
              "      <td>South Korean President Meets North Korea's Kim...</td>\n",
              "      <td>South Korean President Meets North Koreas Kim ...</td>\n",
              "      <td>[south, korean, president, meets, north, korea...</td>\n",
              "      <td>[south, korean, president, meets, north, korea...</td>\n",
              "      <td>[south, korean, presid, meet, north, korea, ki...</td>\n",
              "      <td>south korean presid meet north korea kim jong ...</td>\n",
              "    </tr>\n",
              "    <tr>\n",
              "      <th>1</th>\n",
              "      <td>WORLD NEWS</td>\n",
              "      <td>North Korea Still Open To Talks After Trump Ca...</td>\n",
              "      <td>Josh Smith and Christine Kim, Reuters</td>\n",
              "      <td>https://www.huffingtonpost.com/entry/north-kor...</td>\n",
              "      <td>Trump’s announcement came after repeated threa...</td>\n",
              "      <td>2018-05-25</td>\n",
              "      <td>North Korea Still Open To Talks After Trump Ca...</td>\n",
              "      <td>North Korea Still Open To Talks After Trump Ca...</td>\n",
              "      <td>[north, korea, still, open, to, talks, after, ...</td>\n",
              "      <td>[north, korea, still, open, talks, trump, canc...</td>\n",
              "      <td>[north, korea, still, open, talk, trump, cance...</td>\n",
              "      <td>north korea still open talk trump cancel summi...</td>\n",
              "    </tr>\n",
              "    <tr>\n",
              "      <th>2</th>\n",
              "      <td>WORLD NEWS</td>\n",
              "      <td>2 Men Detonate Bomb Inside Indian Restaurant N...</td>\n",
              "      <td></td>\n",
              "      <td>https://www.huffingtonpost.com/entry/mississau...</td>\n",
              "      <td>Fifteen people were taken to the hospital, thr...</td>\n",
              "      <td>2018-05-25</td>\n",
              "      <td>2 Men Detonate Bomb Inside Indian Restaurant N...</td>\n",
              "      <td>2 Men Detonate Bomb Inside Indian Restaurant N...</td>\n",
              "      <td>[2, men, detonate, bomb, inside, indian, resta...</td>\n",
              "      <td>[2, men, detonate, bomb, inside, indian, resta...</td>\n",
              "      <td>[2, men, deton, bomb, insid, indian, restaur, ...</td>\n",
              "      <td>2 men deton bomb insid indian restaur near tor...</td>\n",
              "    </tr>\n",
              "    <tr>\n",
              "      <th>3</th>\n",
              "      <td>WORLD NEWS</td>\n",
              "      <td>Thousands Travel Home To Ireland To Vote On Ab...</td>\n",
              "      <td>Antonia Blumberg</td>\n",
              "      <td>https://www.huffingtonpost.com/entry/irish-tra...</td>\n",
              "      <td>Just try to read these #HomeToVote tweets with...</td>\n",
              "      <td>2018-05-25</td>\n",
              "      <td>Thousands Travel Home To Ireland To Vote On Ab...</td>\n",
              "      <td>Thousands Travel Home To Ireland To Vote On Ab...</td>\n",
              "      <td>[thousands, travel, home, to, ireland, to, vot...</td>\n",
              "      <td>[thousands, travel, home, ireland, vote, abort...</td>\n",
              "      <td>[thousand, travel, home, ireland, vote, abort,...</td>\n",
              "      <td>thousand travel home ireland vote abort access...</td>\n",
              "    </tr>\n",
              "    <tr>\n",
              "      <th>4</th>\n",
              "      <td>WORLD NEWS</td>\n",
              "      <td>Irish Voters Set To Liberalize Abortion Laws I...</td>\n",
              "      <td></td>\n",
              "      <td>https://www.huffingtonpost.com/entry/ireland-a...</td>\n",
              "      <td>Vote counting will begin Saturday.</td>\n",
              "      <td>2018-05-25</td>\n",
              "      <td>Irish Voters Set To Liberalize Abortion Laws I...</td>\n",
              "      <td>Irish Voters Set To Liberalize Abortion Laws I...</td>\n",
              "      <td>[irish, voters, set, to, liberalize, abortion,...</td>\n",
              "      <td>[irish, voters, set, liberalize, abortion, law...</td>\n",
              "      <td>[irish, voter, set, liber, abort, law, landsli...</td>\n",
              "      <td>irish voter set liber abort law landslid exit ...</td>\n",
              "    </tr>\n",
              "  </tbody>\n",
              "</table>\n",
              "</div>"
            ],
            "text/plain": [
              "     category  ...                                             string\n",
              "0  WORLD NEWS  ...  south korean presid meet north korea kim jong ...\n",
              "1  WORLD NEWS  ...  north korea still open talk trump cancel summi...\n",
              "2  WORLD NEWS  ...  2 men deton bomb insid indian restaur near tor...\n",
              "3  WORLD NEWS  ...  thousand travel home ireland vote abort access...\n",
              "4  WORLD NEWS  ...  irish voter set liber abort law landslid exit ...\n",
              "\n",
              "[5 rows x 12 columns]"
            ]
          },
          "metadata": {
            "tags": []
          },
          "execution_count": 24
        }
      ]
    },
    {
      "cell_type": "code",
      "metadata": {
        "id": "zs78e_A29_mh"
      },
      "source": [
        "def removeNum(txt):\n",
        "  result = ''.join([i for i in txt if not i.isdigit()])\n",
        "  return result"
      ],
      "execution_count": null,
      "outputs": []
    },
    {
      "cell_type": "code",
      "metadata": {
        "id": "nUjQ6emt-Bt3"
      },
      "source": [
        "df['Nonum']=df['string'].apply(lambda x: removeNum(x))"
      ],
      "execution_count": null,
      "outputs": []
    },
    {
      "cell_type": "code",
      "metadata": {
        "id": "vfJ74qNyUoow"
      },
      "source": [
        "df = df.sample(frac=1).reset_index(drop=True)"
      ],
      "execution_count": null,
      "outputs": []
    },
    {
      "cell_type": "code",
      "metadata": {
        "colab": {
          "base_uri": "https://localhost:8080/",
          "height": 1000
        },
        "id": "Q3XEYdJr-DXg",
        "outputId": "0c471585-eeff-4fb0-c1a4-f6d3557a3efb"
      },
      "source": [
        "df"
      ],
      "execution_count": null,
      "outputs": [
        {
          "output_type": "execute_result",
          "data": {
            "text/html": [
              "<div>\n",
              "<style scoped>\n",
              "    .dataframe tbody tr th:only-of-type {\n",
              "        vertical-align: middle;\n",
              "    }\n",
              "\n",
              "    .dataframe tbody tr th {\n",
              "        vertical-align: top;\n",
              "    }\n",
              "\n",
              "    .dataframe thead th {\n",
              "        text-align: right;\n",
              "    }\n",
              "</style>\n",
              "<table border=\"1\" class=\"dataframe\">\n",
              "  <thead>\n",
              "    <tr style=\"text-align: right;\">\n",
              "      <th></th>\n",
              "      <th>category</th>\n",
              "      <th>headline</th>\n",
              "      <th>authors</th>\n",
              "      <th>link</th>\n",
              "      <th>short_description</th>\n",
              "      <th>date</th>\n",
              "      <th>text</th>\n",
              "      <th>textClean</th>\n",
              "      <th>textCleanToken</th>\n",
              "      <th>noStopwords</th>\n",
              "      <th>stemmed</th>\n",
              "      <th>string</th>\n",
              "      <th>Nonum</th>\n",
              "    </tr>\n",
              "  </thead>\n",
              "  <tbody>\n",
              "    <tr>\n",
              "      <th>0</th>\n",
              "      <td>SPORTS</td>\n",
              "      <td>Knicks Owner Bans Charles Oakley From Arena, S...</td>\n",
              "      <td>Michael McLaughlin</td>\n",
              "      <td>https://www.huffingtonpost.com/entry/new-york-...</td>\n",
              "      <td>The former Knicks player was arrested at a gam...</td>\n",
              "      <td>2017-02-11</td>\n",
              "      <td>Knicks Owner Bans Charles Oakley From Arena, S...</td>\n",
              "      <td>Knicks Owner Bans Charles Oakley From Arena St...</td>\n",
              "      <td>[knicks, owner, bans, charles, oakley, from, a...</td>\n",
              "      <td>[knicks, owner, bans, charles, oakley, arena, ...</td>\n",
              "      <td>[knick, owner, ban, charl, oakley, arena, step...</td>\n",
              "      <td>knick owner ban charl oakley arena step person...</td>\n",
              "      <td>knick owner ban charl oakley arena step person...</td>\n",
              "    </tr>\n",
              "    <tr>\n",
              "      <th>1</th>\n",
              "      <td>SPORTS</td>\n",
              "      <td>Chuck Pagano Returns: Colts Coach Returns To S...</td>\n",
              "      <td>Chris Greenberg</td>\n",
              "      <td>https://www.huffingtonpost.com/entry/chuck-pag...</td>\n",
              "      <td>\"I feel great, my weight is back, my energy is...</td>\n",
              "      <td>2012-12-30</td>\n",
              "      <td>Chuck Pagano Returns: Colts Coach Returns To S...</td>\n",
              "      <td>Chuck Pagano Returns Colts Coach Returns To Si...</td>\n",
              "      <td>[chuck, pagano, returns, colts, coach, returns...</td>\n",
              "      <td>[chuck, pagano, returns, colts, coach, returns...</td>\n",
              "      <td>[chuck, pagano, return, colt, coach, return, s...</td>\n",
              "      <td>chuck pagano return colt coach return sidelin ...</td>\n",
              "      <td>chuck pagano return colt coach return sidelin ...</td>\n",
              "    </tr>\n",
              "    <tr>\n",
              "      <th>2</th>\n",
              "      <td>SPORTS</td>\n",
              "      <td>4 More Reasons Wisconsin Should Make the Colle...</td>\n",
              "      <td>Seth Abramson, ContributorAttorney; Assistant ...</td>\n",
              "      <td>https://www.huffingtonpost.com/entry/4-more-re...</td>\n",
              "      <td>In other words, we can look at what some very ...</td>\n",
              "      <td>2014-12-05</td>\n",
              "      <td>4 More Reasons Wisconsin Should Make the Colle...</td>\n",
              "      <td>4 More Reasons Wisconsin Should Make the Colle...</td>\n",
              "      <td>[4, more, reasons, wisconsin, should, make, th...</td>\n",
              "      <td>[4, reasons, wisconsin, make, college, footbal...</td>\n",
              "      <td>[4, reason, wisconsin, make, colleg, footbal, ...</td>\n",
              "      <td>4 reason wisconsin make colleg footbal playoff...</td>\n",
              "      <td>reason wisconsin make colleg footbal playoffi...</td>\n",
              "    </tr>\n",
              "    <tr>\n",
              "      <th>3</th>\n",
              "      <td>MONEY</td>\n",
              "      <td>Debt Management Plan Helps Couple Escape $52,0...</td>\n",
              "      <td>Catherine New</td>\n",
              "      <td>https://www.huffingtonpost.com/entry/debt-mana...</td>\n",
              "      <td>\"I got this awful feeling that about it -- tha...</td>\n",
              "      <td>2012-06-18</td>\n",
              "      <td>Debt Management Plan Helps Couple Escape $52,0...</td>\n",
              "      <td>Debt Management Plan Helps Couple Escape 52000...</td>\n",
              "      <td>[debt, management, plan, helps, couple, escape...</td>\n",
              "      <td>[debt, management, plan, helps, couple, escape...</td>\n",
              "      <td>[debt, manag, plan, help, coupl, escap, 52000,...</td>\n",
              "      <td>debt manag plan help coupl escap 52000 credit ...</td>\n",
              "      <td>debt manag plan help coupl escap  credit card ...</td>\n",
              "    </tr>\n",
              "    <tr>\n",
              "      <th>4</th>\n",
              "      <td>WOMEN</td>\n",
              "      <td>Ivanka Trump's Women's Day Tribute Went Exactl...</td>\n",
              "      <td>Nina Golgowski</td>\n",
              "      <td>https://www.huffingtonpost.com/entry/trump-wom...</td>\n",
              "      <td>\"I stand amazed and stunned at how you try to ...</td>\n",
              "      <td>2018-03-08</td>\n",
              "      <td>Ivanka Trump's Women's Day Tribute Went Exactl...</td>\n",
              "      <td>Ivanka Trumps Womens Day Tribute Went Exactly ...</td>\n",
              "      <td>[ivanka, trumps, womens, day, tribute, went, e...</td>\n",
              "      <td>[ivanka, trumps, womens, day, tribute, went, e...</td>\n",
              "      <td>[ivanka, trump, women, day, tribut, went, exac...</td>\n",
              "      <td>ivanka trump women day tribut went exactli you...</td>\n",
              "      <td>ivanka trump women day tribut went exactli you...</td>\n",
              "    </tr>\n",
              "    <tr>\n",
              "      <th>...</th>\n",
              "      <td>...</td>\n",
              "      <td>...</td>\n",
              "      <td>...</td>\n",
              "      <td>...</td>\n",
              "      <td>...</td>\n",
              "      <td>...</td>\n",
              "      <td>...</td>\n",
              "      <td>...</td>\n",
              "      <td>...</td>\n",
              "      <td>...</td>\n",
              "      <td>...</td>\n",
              "      <td>...</td>\n",
              "      <td>...</td>\n",
              "    </tr>\n",
              "    <tr>\n",
              "      <th>14431</th>\n",
              "      <td>SPORTS</td>\n",
              "      <td>13 Political Lessons From Fantasy Football</td>\n",
              "      <td>Josue Lopez Calderon, ContributorWashington D....</td>\n",
              "      <td>https://www.huffingtonpost.com/entry/13-politi...</td>\n",
              "      <td>Yes, fantasy football is much more than a game...</td>\n",
              "      <td>2015-02-13</td>\n",
              "      <td>13 Political Lessons From Fantasy FootballYes,...</td>\n",
              "      <td>13 Political Lessons From Fantasy FootballYes ...</td>\n",
              "      <td>[13, political, lessons, from, fantasy, footba...</td>\n",
              "      <td>[13, political, lessons, fantasy, footballyes,...</td>\n",
              "      <td>[13, polit, lesson, fantasi, footbally, fantas...</td>\n",
              "      <td>13 polit lesson fantasi footbally fantasi foot...</td>\n",
              "      <td>polit lesson fantasi footbally fantasi footba...</td>\n",
              "    </tr>\n",
              "    <tr>\n",
              "      <th>14432</th>\n",
              "      <td>SCIENCE</td>\n",
              "      <td>Thomas Edison's Greatest Invention: Innovation...</td>\n",
              "      <td></td>\n",
              "      <td>https://www.huffingtonpost.com/entry/thomas-ed...</td>\n",
              "      <td>Edison also made useful contacts with news rep...</td>\n",
              "      <td>2012-04-08</td>\n",
              "      <td>Thomas Edison's Greatest Invention: Innovation...</td>\n",
              "      <td>Thomas Edisons Greatest Invention Innovation I...</td>\n",
              "      <td>[thomas, edisons, greatest, invention, innovat...</td>\n",
              "      <td>[thomas, edisons, greatest, invention, innovat...</td>\n",
              "      <td>[thoma, edison, greatest, invent, innov, itsel...</td>\n",
              "      <td>thoma edison greatest invent innov itselfediso...</td>\n",
              "      <td>thoma edison greatest invent innov itselfediso...</td>\n",
              "    </tr>\n",
              "    <tr>\n",
              "      <th>14433</th>\n",
              "      <td>WORLD NEWS</td>\n",
              "      <td>Convoy Carrying Aid For Thousands Of Syrians P...</td>\n",
              "      <td></td>\n",
              "      <td>https://www.huffingtonpost.com/entry/ghouta-sy...</td>\n",
              "      <td>The convoy of 25 aid trucks is carrying around...</td>\n",
              "      <td>2018-03-15</td>\n",
              "      <td>Convoy Carrying Aid For Thousands Of Syrians P...</td>\n",
              "      <td>Convoy Carrying Aid For Thousands Of Syrians P...</td>\n",
              "      <td>[convoy, carrying, aid, for, thousands, of, sy...</td>\n",
              "      <td>[convoy, carrying, aid, thousands, syrians, pr...</td>\n",
              "      <td>[convoy, carri, aid, thousand, syrian, prepar,...</td>\n",
              "      <td>convoy carri aid thousand syrian prepar enter ...</td>\n",
              "      <td>convoy carri aid thousand syrian prepar enter ...</td>\n",
              "    </tr>\n",
              "    <tr>\n",
              "      <th>14434</th>\n",
              "      <td>MONEY</td>\n",
              "      <td>When To Buy A Plane Ticket</td>\n",
              "      <td></td>\n",
              "      <td>https://www.huffingtonpost.comhttp://travel.ny...</td>\n",
              "      <td>WHEN is the best time to book that flight? It'...</td>\n",
              "      <td>2012-04-16</td>\n",
              "      <td>When To Buy A Plane TicketWHEN is the best tim...</td>\n",
              "      <td>When To Buy A Plane TicketWHEN is the best tim...</td>\n",
              "      <td>[when, to, buy, a, plane, ticketwhen, is, the,...</td>\n",
              "      <td>[buy, plane, ticketwhen, best, time, book, fli...</td>\n",
              "      <td>[buy, plane, ticketwhen, best, time, book, fli...</td>\n",
              "      <td>buy plane ticketwhen best time book flight one...</td>\n",
              "      <td>buy plane ticketwhen best time book flight one...</td>\n",
              "    </tr>\n",
              "    <tr>\n",
              "      <th>14435</th>\n",
              "      <td>SPORTS</td>\n",
              "      <td>Protests Erupt As University Looks To Hire Coa...</td>\n",
              "      <td>Doha Madani</td>\n",
              "      <td>https://www.huffingtonpost.com/entry/protests-...</td>\n",
              "      <td>Greg Schiano has been accused of covering up J...</td>\n",
              "      <td>2017-11-27</td>\n",
              "      <td>Protests Erupt As University Looks To Hire Coa...</td>\n",
              "      <td>Protests Erupt As University Looks To Hire Coa...</td>\n",
              "      <td>[protests, erupt, as, university, looks, to, h...</td>\n",
              "      <td>[protests, erupt, university, looks, hire, coa...</td>\n",
              "      <td>[protest, erupt, univers, look, hire, coach, c...</td>\n",
              "      <td>protest erupt univers look hire coach connect ...</td>\n",
              "      <td>protest erupt univers look hire coach connect ...</td>\n",
              "    </tr>\n",
              "  </tbody>\n",
              "</table>\n",
              "<p>14436 rows × 13 columns</p>\n",
              "</div>"
            ],
            "text/plain": [
              "         category  ...                                              Nonum\n",
              "0          SPORTS  ...  knick owner ban charl oakley arena step person...\n",
              "1          SPORTS  ...  chuck pagano return colt coach return sidelin ...\n",
              "2          SPORTS  ...   reason wisconsin make colleg footbal playoffi...\n",
              "3           MONEY  ...  debt manag plan help coupl escap  credit card ...\n",
              "4           WOMEN  ...  ivanka trump women day tribut went exactli you...\n",
              "...           ...  ...                                                ...\n",
              "14431      SPORTS  ...   polit lesson fantasi footbally fantasi footba...\n",
              "14432     SCIENCE  ...  thoma edison greatest invent innov itselfediso...\n",
              "14433  WORLD NEWS  ...  convoy carri aid thousand syrian prepar enter ...\n",
              "14434       MONEY  ...  buy plane ticketwhen best time book flight one...\n",
              "14435      SPORTS  ...  protest erupt univers look hire coach connect ...\n",
              "\n",
              "[14436 rows x 13 columns]"
            ]
          },
          "metadata": {
            "tags": []
          },
          "execution_count": 28
        }
      ]
    },
    {
      "cell_type": "code",
      "metadata": {
        "id": "rOVaDd2ICXr9"
      },
      "source": [
        ""
      ],
      "execution_count": null,
      "outputs": []
    },
    {
      "cell_type": "code",
      "metadata": {
        "colab": {
          "base_uri": "https://localhost:8080/"
        },
        "id": "RnzwbJezTUoY",
        "outputId": "5e64a3b9-dcd8-4707-f0c5-6eb76c7b548f"
      },
      "source": [
        "from collections import Counter\n",
        "Counter(df['category'])"
      ],
      "execution_count": null,
      "outputs": [
        {
          "output_type": "execute_result",
          "data": {
            "text/plain": [
              "Counter({'MONEY': 1707,\n",
              "         'SCIENCE': 2178,\n",
              "         'SPORTS': 4884,\n",
              "         'WOMEN': 3490,\n",
              "         'WORLD NEWS': 2177})"
            ]
          },
          "metadata": {
            "tags": []
          },
          "execution_count": 30
        }
      ]
    },
    {
      "cell_type": "markdown",
      "metadata": {
        "id": "S9plpL2j-Gk2"
      },
      "source": [
        "##TF-IDF"
      ]
    },
    {
      "cell_type": "code",
      "metadata": {
        "colab": {
          "base_uri": "https://localhost:8080/"
        },
        "id": "noQn7hni-F7Q",
        "outputId": "88498747-6674-49ab-91ce-1c0a886cdb5d"
      },
      "source": [
        "from sklearn.feature_extraction.text import TfidfVectorizer\n",
        "tv=TfidfVectorizer()\n",
        "X=tv.fit_transform(df['Nonum'])\n",
        "print(X.shape)"
      ],
      "execution_count": null,
      "outputs": [
        {
          "output_type": "stream",
          "text": [
            "(14436, 29535)\n"
          ],
          "name": "stdout"
        }
      ]
    },
    {
      "cell_type": "code",
      "metadata": {
        "id": "UVi6xofP-K0E"
      },
      "source": [
        "df3=pd.DataFrame(X.toarray(),columns=tv.get_feature_names())"
      ],
      "execution_count": null,
      "outputs": []
    },
    {
      "cell_type": "code",
      "metadata": {
        "colab": {
          "base_uri": "https://localhost:8080/",
          "height": 253
        },
        "id": "U9C7VNBt-NS6",
        "outputId": "51b939a4-fa48-4882-fa19-2f2bf85b9b36"
      },
      "source": [
        "df3.head()"
      ],
      "execution_count": null,
      "outputs": [
        {
          "output_type": "execute_result",
          "data": {
            "text/html": [
              "<div>\n",
              "<style scoped>\n",
              "    .dataframe tbody tr th:only-of-type {\n",
              "        vertical-align: middle;\n",
              "    }\n",
              "\n",
              "    .dataframe tbody tr th {\n",
              "        vertical-align: top;\n",
              "    }\n",
              "\n",
              "    .dataframe thead th {\n",
              "        text-align: right;\n",
              "    }\n",
              "</style>\n",
              "<table border=\"1\" class=\"dataframe\">\n",
              "  <thead>\n",
              "    <tr style=\"text-align: right;\">\n",
              "      <th></th>\n",
              "      <th>aa</th>\n",
              "      <th>aaa</th>\n",
              "      <th>aam</th>\n",
              "      <th>aan</th>\n",
              "      <th>aarhu</th>\n",
              "      <th>aaron</th>\n",
              "      <th>aarp</th>\n",
              "      <th>aau</th>\n",
              "      <th>ab</th>\n",
              "      <th>aback</th>\n",
              "      <th>abandon</th>\n",
              "      <th>abandonednobodi</th>\n",
              "      <th>abaya</th>\n",
              "      <th>abb</th>\n",
              "      <th>abba</th>\n",
              "      <th>abbasdear</th>\n",
              "      <th>abbey</th>\n",
              "      <th>abbi</th>\n",
              "      <th>abbott</th>\n",
              "      <th>abc</th>\n",
              "      <th>abdel</th>\n",
              "      <th>abdelfattah</th>\n",
              "      <th>abdelmagi</th>\n",
              "      <th>abdic</th>\n",
              "      <th>abdicateth</th>\n",
              "      <th>abdomin</th>\n",
              "      <th>abduct</th>\n",
              "      <th>abdul</th>\n",
              "      <th>abdulaziz</th>\n",
              "      <th>abduljabbar</th>\n",
              "      <th>abdullah</th>\n",
              "      <th>abdullahi</th>\n",
              "      <th>abdurrahman</th>\n",
              "      <th>abdussalaam</th>\n",
              "      <th>abe</th>\n",
              "      <th>abedi</th>\n",
              "      <th>abedin</th>\n",
              "      <th>abel</th>\n",
              "      <th>abercrombi</th>\n",
              "      <th>abergel</th>\n",
              "      <th>...</th>\n",
              "      <th>zikah</th>\n",
              "      <th>zimbabw</th>\n",
              "      <th>zimbabwean</th>\n",
              "      <th>zimbabwewhat</th>\n",
              "      <th>zimmerman</th>\n",
              "      <th>zimmermanhav</th>\n",
              "      <th>zina</th>\n",
              "      <th>zionism</th>\n",
              "      <th>zionist</th>\n",
              "      <th>zip</th>\n",
              "      <th>zmapp</th>\n",
              "      <th>zodiac</th>\n",
              "      <th>zoe</th>\n",
              "      <th>zoey</th>\n",
              "      <th>zola</th>\n",
              "      <th>zombi</th>\n",
              "      <th>zone</th>\n",
              "      <th>zonesthes</th>\n",
              "      <th>zong</th>\n",
              "      <th>zoo</th>\n",
              "      <th>zoocut</th>\n",
              "      <th>zooey</th>\n",
              "      <th>zooid</th>\n",
              "      <th>zoom</th>\n",
              "      <th>zoomor</th>\n",
              "      <th>zoosbi</th>\n",
              "      <th>zooth</th>\n",
              "      <th>zosia</th>\n",
              "      <th>zoubeir</th>\n",
              "      <th>zouhour</th>\n",
              "      <th>zoya</th>\n",
              "      <th>zubik</th>\n",
              "      <th>zuckerberg</th>\n",
              "      <th>zuma</th>\n",
              "      <th>zurich</th>\n",
              "      <th>zurichth</th>\n",
              "      <th>zurlon</th>\n",
              "      <th>zweig</th>\n",
              "      <th>zynga</th>\n",
              "      <th>école</th>\n",
              "    </tr>\n",
              "  </thead>\n",
              "  <tbody>\n",
              "    <tr>\n",
              "      <th>0</th>\n",
              "      <td>0.0</td>\n",
              "      <td>0.0</td>\n",
              "      <td>0.0</td>\n",
              "      <td>0.0</td>\n",
              "      <td>0.0</td>\n",
              "      <td>0.0</td>\n",
              "      <td>0.0</td>\n",
              "      <td>0.0</td>\n",
              "      <td>0.0</td>\n",
              "      <td>0.0</td>\n",
              "      <td>0.0</td>\n",
              "      <td>0.0</td>\n",
              "      <td>0.0</td>\n",
              "      <td>0.0</td>\n",
              "      <td>0.0</td>\n",
              "      <td>0.0</td>\n",
              "      <td>0.0</td>\n",
              "      <td>0.0</td>\n",
              "      <td>0.0</td>\n",
              "      <td>0.0</td>\n",
              "      <td>0.0</td>\n",
              "      <td>0.0</td>\n",
              "      <td>0.0</td>\n",
              "      <td>0.0</td>\n",
              "      <td>0.0</td>\n",
              "      <td>0.0</td>\n",
              "      <td>0.0</td>\n",
              "      <td>0.0</td>\n",
              "      <td>0.0</td>\n",
              "      <td>0.0</td>\n",
              "      <td>0.0</td>\n",
              "      <td>0.0</td>\n",
              "      <td>0.0</td>\n",
              "      <td>0.0</td>\n",
              "      <td>0.0</td>\n",
              "      <td>0.0</td>\n",
              "      <td>0.0</td>\n",
              "      <td>0.0</td>\n",
              "      <td>0.0</td>\n",
              "      <td>0.0</td>\n",
              "      <td>...</td>\n",
              "      <td>0.0</td>\n",
              "      <td>0.0</td>\n",
              "      <td>0.0</td>\n",
              "      <td>0.0</td>\n",
              "      <td>0.0</td>\n",
              "      <td>0.0</td>\n",
              "      <td>0.0</td>\n",
              "      <td>0.0</td>\n",
              "      <td>0.0</td>\n",
              "      <td>0.0</td>\n",
              "      <td>0.0</td>\n",
              "      <td>0.0</td>\n",
              "      <td>0.0</td>\n",
              "      <td>0.0</td>\n",
              "      <td>0.0</td>\n",
              "      <td>0.0</td>\n",
              "      <td>0.0</td>\n",
              "      <td>0.0</td>\n",
              "      <td>0.0</td>\n",
              "      <td>0.0</td>\n",
              "      <td>0.0</td>\n",
              "      <td>0.0</td>\n",
              "      <td>0.0</td>\n",
              "      <td>0.0</td>\n",
              "      <td>0.0</td>\n",
              "      <td>0.0</td>\n",
              "      <td>0.0</td>\n",
              "      <td>0.0</td>\n",
              "      <td>0.0</td>\n",
              "      <td>0.0</td>\n",
              "      <td>0.0</td>\n",
              "      <td>0.0</td>\n",
              "      <td>0.0</td>\n",
              "      <td>0.0</td>\n",
              "      <td>0.0</td>\n",
              "      <td>0.0</td>\n",
              "      <td>0.0</td>\n",
              "      <td>0.0</td>\n",
              "      <td>0.0</td>\n",
              "      <td>0.0</td>\n",
              "    </tr>\n",
              "    <tr>\n",
              "      <th>1</th>\n",
              "      <td>0.0</td>\n",
              "      <td>0.0</td>\n",
              "      <td>0.0</td>\n",
              "      <td>0.0</td>\n",
              "      <td>0.0</td>\n",
              "      <td>0.0</td>\n",
              "      <td>0.0</td>\n",
              "      <td>0.0</td>\n",
              "      <td>0.0</td>\n",
              "      <td>0.0</td>\n",
              "      <td>0.0</td>\n",
              "      <td>0.0</td>\n",
              "      <td>0.0</td>\n",
              "      <td>0.0</td>\n",
              "      <td>0.0</td>\n",
              "      <td>0.0</td>\n",
              "      <td>0.0</td>\n",
              "      <td>0.0</td>\n",
              "      <td>0.0</td>\n",
              "      <td>0.0</td>\n",
              "      <td>0.0</td>\n",
              "      <td>0.0</td>\n",
              "      <td>0.0</td>\n",
              "      <td>0.0</td>\n",
              "      <td>0.0</td>\n",
              "      <td>0.0</td>\n",
              "      <td>0.0</td>\n",
              "      <td>0.0</td>\n",
              "      <td>0.0</td>\n",
              "      <td>0.0</td>\n",
              "      <td>0.0</td>\n",
              "      <td>0.0</td>\n",
              "      <td>0.0</td>\n",
              "      <td>0.0</td>\n",
              "      <td>0.0</td>\n",
              "      <td>0.0</td>\n",
              "      <td>0.0</td>\n",
              "      <td>0.0</td>\n",
              "      <td>0.0</td>\n",
              "      <td>0.0</td>\n",
              "      <td>...</td>\n",
              "      <td>0.0</td>\n",
              "      <td>0.0</td>\n",
              "      <td>0.0</td>\n",
              "      <td>0.0</td>\n",
              "      <td>0.0</td>\n",
              "      <td>0.0</td>\n",
              "      <td>0.0</td>\n",
              "      <td>0.0</td>\n",
              "      <td>0.0</td>\n",
              "      <td>0.0</td>\n",
              "      <td>0.0</td>\n",
              "      <td>0.0</td>\n",
              "      <td>0.0</td>\n",
              "      <td>0.0</td>\n",
              "      <td>0.0</td>\n",
              "      <td>0.0</td>\n",
              "      <td>0.0</td>\n",
              "      <td>0.0</td>\n",
              "      <td>0.0</td>\n",
              "      <td>0.0</td>\n",
              "      <td>0.0</td>\n",
              "      <td>0.0</td>\n",
              "      <td>0.0</td>\n",
              "      <td>0.0</td>\n",
              "      <td>0.0</td>\n",
              "      <td>0.0</td>\n",
              "      <td>0.0</td>\n",
              "      <td>0.0</td>\n",
              "      <td>0.0</td>\n",
              "      <td>0.0</td>\n",
              "      <td>0.0</td>\n",
              "      <td>0.0</td>\n",
              "      <td>0.0</td>\n",
              "      <td>0.0</td>\n",
              "      <td>0.0</td>\n",
              "      <td>0.0</td>\n",
              "      <td>0.0</td>\n",
              "      <td>0.0</td>\n",
              "      <td>0.0</td>\n",
              "      <td>0.0</td>\n",
              "    </tr>\n",
              "    <tr>\n",
              "      <th>2</th>\n",
              "      <td>0.0</td>\n",
              "      <td>0.0</td>\n",
              "      <td>0.0</td>\n",
              "      <td>0.0</td>\n",
              "      <td>0.0</td>\n",
              "      <td>0.0</td>\n",
              "      <td>0.0</td>\n",
              "      <td>0.0</td>\n",
              "      <td>0.0</td>\n",
              "      <td>0.0</td>\n",
              "      <td>0.0</td>\n",
              "      <td>0.0</td>\n",
              "      <td>0.0</td>\n",
              "      <td>0.0</td>\n",
              "      <td>0.0</td>\n",
              "      <td>0.0</td>\n",
              "      <td>0.0</td>\n",
              "      <td>0.0</td>\n",
              "      <td>0.0</td>\n",
              "      <td>0.0</td>\n",
              "      <td>0.0</td>\n",
              "      <td>0.0</td>\n",
              "      <td>0.0</td>\n",
              "      <td>0.0</td>\n",
              "      <td>0.0</td>\n",
              "      <td>0.0</td>\n",
              "      <td>0.0</td>\n",
              "      <td>0.0</td>\n",
              "      <td>0.0</td>\n",
              "      <td>0.0</td>\n",
              "      <td>0.0</td>\n",
              "      <td>0.0</td>\n",
              "      <td>0.0</td>\n",
              "      <td>0.0</td>\n",
              "      <td>0.0</td>\n",
              "      <td>0.0</td>\n",
              "      <td>0.0</td>\n",
              "      <td>0.0</td>\n",
              "      <td>0.0</td>\n",
              "      <td>0.0</td>\n",
              "      <td>...</td>\n",
              "      <td>0.0</td>\n",
              "      <td>0.0</td>\n",
              "      <td>0.0</td>\n",
              "      <td>0.0</td>\n",
              "      <td>0.0</td>\n",
              "      <td>0.0</td>\n",
              "      <td>0.0</td>\n",
              "      <td>0.0</td>\n",
              "      <td>0.0</td>\n",
              "      <td>0.0</td>\n",
              "      <td>0.0</td>\n",
              "      <td>0.0</td>\n",
              "      <td>0.0</td>\n",
              "      <td>0.0</td>\n",
              "      <td>0.0</td>\n",
              "      <td>0.0</td>\n",
              "      <td>0.0</td>\n",
              "      <td>0.0</td>\n",
              "      <td>0.0</td>\n",
              "      <td>0.0</td>\n",
              "      <td>0.0</td>\n",
              "      <td>0.0</td>\n",
              "      <td>0.0</td>\n",
              "      <td>0.0</td>\n",
              "      <td>0.0</td>\n",
              "      <td>0.0</td>\n",
              "      <td>0.0</td>\n",
              "      <td>0.0</td>\n",
              "      <td>0.0</td>\n",
              "      <td>0.0</td>\n",
              "      <td>0.0</td>\n",
              "      <td>0.0</td>\n",
              "      <td>0.0</td>\n",
              "      <td>0.0</td>\n",
              "      <td>0.0</td>\n",
              "      <td>0.0</td>\n",
              "      <td>0.0</td>\n",
              "      <td>0.0</td>\n",
              "      <td>0.0</td>\n",
              "      <td>0.0</td>\n",
              "    </tr>\n",
              "    <tr>\n",
              "      <th>3</th>\n",
              "      <td>0.0</td>\n",
              "      <td>0.0</td>\n",
              "      <td>0.0</td>\n",
              "      <td>0.0</td>\n",
              "      <td>0.0</td>\n",
              "      <td>0.0</td>\n",
              "      <td>0.0</td>\n",
              "      <td>0.0</td>\n",
              "      <td>0.0</td>\n",
              "      <td>0.0</td>\n",
              "      <td>0.0</td>\n",
              "      <td>0.0</td>\n",
              "      <td>0.0</td>\n",
              "      <td>0.0</td>\n",
              "      <td>0.0</td>\n",
              "      <td>0.0</td>\n",
              "      <td>0.0</td>\n",
              "      <td>0.0</td>\n",
              "      <td>0.0</td>\n",
              "      <td>0.0</td>\n",
              "      <td>0.0</td>\n",
              "      <td>0.0</td>\n",
              "      <td>0.0</td>\n",
              "      <td>0.0</td>\n",
              "      <td>0.0</td>\n",
              "      <td>0.0</td>\n",
              "      <td>0.0</td>\n",
              "      <td>0.0</td>\n",
              "      <td>0.0</td>\n",
              "      <td>0.0</td>\n",
              "      <td>0.0</td>\n",
              "      <td>0.0</td>\n",
              "      <td>0.0</td>\n",
              "      <td>0.0</td>\n",
              "      <td>0.0</td>\n",
              "      <td>0.0</td>\n",
              "      <td>0.0</td>\n",
              "      <td>0.0</td>\n",
              "      <td>0.0</td>\n",
              "      <td>0.0</td>\n",
              "      <td>...</td>\n",
              "      <td>0.0</td>\n",
              "      <td>0.0</td>\n",
              "      <td>0.0</td>\n",
              "      <td>0.0</td>\n",
              "      <td>0.0</td>\n",
              "      <td>0.0</td>\n",
              "      <td>0.0</td>\n",
              "      <td>0.0</td>\n",
              "      <td>0.0</td>\n",
              "      <td>0.0</td>\n",
              "      <td>0.0</td>\n",
              "      <td>0.0</td>\n",
              "      <td>0.0</td>\n",
              "      <td>0.0</td>\n",
              "      <td>0.0</td>\n",
              "      <td>0.0</td>\n",
              "      <td>0.0</td>\n",
              "      <td>0.0</td>\n",
              "      <td>0.0</td>\n",
              "      <td>0.0</td>\n",
              "      <td>0.0</td>\n",
              "      <td>0.0</td>\n",
              "      <td>0.0</td>\n",
              "      <td>0.0</td>\n",
              "      <td>0.0</td>\n",
              "      <td>0.0</td>\n",
              "      <td>0.0</td>\n",
              "      <td>0.0</td>\n",
              "      <td>0.0</td>\n",
              "      <td>0.0</td>\n",
              "      <td>0.0</td>\n",
              "      <td>0.0</td>\n",
              "      <td>0.0</td>\n",
              "      <td>0.0</td>\n",
              "      <td>0.0</td>\n",
              "      <td>0.0</td>\n",
              "      <td>0.0</td>\n",
              "      <td>0.0</td>\n",
              "      <td>0.0</td>\n",
              "      <td>0.0</td>\n",
              "    </tr>\n",
              "    <tr>\n",
              "      <th>4</th>\n",
              "      <td>0.0</td>\n",
              "      <td>0.0</td>\n",
              "      <td>0.0</td>\n",
              "      <td>0.0</td>\n",
              "      <td>0.0</td>\n",
              "      <td>0.0</td>\n",
              "      <td>0.0</td>\n",
              "      <td>0.0</td>\n",
              "      <td>0.0</td>\n",
              "      <td>0.0</td>\n",
              "      <td>0.0</td>\n",
              "      <td>0.0</td>\n",
              "      <td>0.0</td>\n",
              "      <td>0.0</td>\n",
              "      <td>0.0</td>\n",
              "      <td>0.0</td>\n",
              "      <td>0.0</td>\n",
              "      <td>0.0</td>\n",
              "      <td>0.0</td>\n",
              "      <td>0.0</td>\n",
              "      <td>0.0</td>\n",
              "      <td>0.0</td>\n",
              "      <td>0.0</td>\n",
              "      <td>0.0</td>\n",
              "      <td>0.0</td>\n",
              "      <td>0.0</td>\n",
              "      <td>0.0</td>\n",
              "      <td>0.0</td>\n",
              "      <td>0.0</td>\n",
              "      <td>0.0</td>\n",
              "      <td>0.0</td>\n",
              "      <td>0.0</td>\n",
              "      <td>0.0</td>\n",
              "      <td>0.0</td>\n",
              "      <td>0.0</td>\n",
              "      <td>0.0</td>\n",
              "      <td>0.0</td>\n",
              "      <td>0.0</td>\n",
              "      <td>0.0</td>\n",
              "      <td>0.0</td>\n",
              "      <td>...</td>\n",
              "      <td>0.0</td>\n",
              "      <td>0.0</td>\n",
              "      <td>0.0</td>\n",
              "      <td>0.0</td>\n",
              "      <td>0.0</td>\n",
              "      <td>0.0</td>\n",
              "      <td>0.0</td>\n",
              "      <td>0.0</td>\n",
              "      <td>0.0</td>\n",
              "      <td>0.0</td>\n",
              "      <td>0.0</td>\n",
              "      <td>0.0</td>\n",
              "      <td>0.0</td>\n",
              "      <td>0.0</td>\n",
              "      <td>0.0</td>\n",
              "      <td>0.0</td>\n",
              "      <td>0.0</td>\n",
              "      <td>0.0</td>\n",
              "      <td>0.0</td>\n",
              "      <td>0.0</td>\n",
              "      <td>0.0</td>\n",
              "      <td>0.0</td>\n",
              "      <td>0.0</td>\n",
              "      <td>0.0</td>\n",
              "      <td>0.0</td>\n",
              "      <td>0.0</td>\n",
              "      <td>0.0</td>\n",
              "      <td>0.0</td>\n",
              "      <td>0.0</td>\n",
              "      <td>0.0</td>\n",
              "      <td>0.0</td>\n",
              "      <td>0.0</td>\n",
              "      <td>0.0</td>\n",
              "      <td>0.0</td>\n",
              "      <td>0.0</td>\n",
              "      <td>0.0</td>\n",
              "      <td>0.0</td>\n",
              "      <td>0.0</td>\n",
              "      <td>0.0</td>\n",
              "      <td>0.0</td>\n",
              "    </tr>\n",
              "  </tbody>\n",
              "</table>\n",
              "<p>5 rows × 29535 columns</p>\n",
              "</div>"
            ],
            "text/plain": [
              "    aa  aaa  aam  aan  aarhu  ...  zurichth  zurlon  zweig  zynga  école\n",
              "0  0.0  0.0  0.0  0.0    0.0  ...       0.0     0.0    0.0    0.0    0.0\n",
              "1  0.0  0.0  0.0  0.0    0.0  ...       0.0     0.0    0.0    0.0    0.0\n",
              "2  0.0  0.0  0.0  0.0    0.0  ...       0.0     0.0    0.0    0.0    0.0\n",
              "3  0.0  0.0  0.0  0.0    0.0  ...       0.0     0.0    0.0    0.0    0.0\n",
              "4  0.0  0.0  0.0  0.0    0.0  ...       0.0     0.0    0.0    0.0    0.0\n",
              "\n",
              "[5 rows x 29535 columns]"
            ]
          },
          "metadata": {
            "tags": []
          },
          "execution_count": 33
        }
      ]
    },
    {
      "cell_type": "code",
      "metadata": {
        "id": "MFvwW5emBbdO"
      },
      "source": [
        "categories=df['category']"
      ],
      "execution_count": null,
      "outputs": []
    },
    {
      "cell_type": "markdown",
      "metadata": {
        "id": "qe2bxXILBtQ6"
      },
      "source": [
        "#CNN"
      ]
    },
    {
      "cell_type": "code",
      "metadata": {
        "id": "oWMEaKfwBqOx"
      },
      "source": [
        "import tensorflow as tf\n",
        "from tensorflow.keras.models import Sequential\n",
        "from tensorflow.keras.layers import Dense, Dropout, Activation, Flatten, Conv2D, MaxPooling2D, Conv1D, MaxPooling1D\n",
        "import pickle"
      ],
      "execution_count": null,
      "outputs": []
    },
    {
      "cell_type": "code",
      "metadata": {
        "id": "CZ3QLQRDBvxT"
      },
      "source": [
        "x=df3.values"
      ],
      "execution_count": null,
      "outputs": []
    },
    {
      "cell_type": "code",
      "metadata": {
        "id": "gLU6v40eBzAs"
      },
      "source": [
        "y=categories.values"
      ],
      "execution_count": null,
      "outputs": []
    },
    {
      "cell_type": "code",
      "metadata": {
        "colab": {
          "base_uri": "https://localhost:8080/"
        },
        "id": "W_mP9zABB-OB",
        "outputId": "ecef753c-4a55-4acd-934d-343af50a5a43"
      },
      "source": [
        "y"
      ],
      "execution_count": null,
      "outputs": [
        {
          "output_type": "execute_result",
          "data": {
            "text/plain": [
              "array(['SPORTS', 'SPORTS', 'SPORTS', ..., 'WORLD NEWS', 'MONEY', 'SPORTS'],\n",
              "      dtype=object)"
            ]
          },
          "metadata": {
            "tags": []
          },
          "execution_count": 38
        }
      ]
    },
    {
      "cell_type": "code",
      "metadata": {
        "id": "s6uma8lIB1CD"
      },
      "source": [
        "from sklearn.preprocessing import LabelEncoder\n",
        "le = LabelEncoder()\n",
        "\n",
        "yLE = le.fit_transform(y)"
      ],
      "execution_count": null,
      "outputs": []
    },
    {
      "cell_type": "code",
      "metadata": {
        "colab": {
          "base_uri": "https://localhost:8080/"
        },
        "id": "If-Q9TZMB4QK",
        "outputId": "558132cc-7eef-4bf6-fc60-f176d895e6da"
      },
      "source": [
        "yLE"
      ],
      "execution_count": null,
      "outputs": [
        {
          "output_type": "execute_result",
          "data": {
            "text/plain": [
              "array([2, 2, 2, ..., 4, 0, 2])"
            ]
          },
          "metadata": {
            "tags": []
          },
          "execution_count": 40
        }
      ]
    },
    {
      "cell_type": "code",
      "metadata": {
        "id": "F-KfFfS9B6M6"
      },
      "source": [
        "yLE = np.asarray( tf.keras.utils.to_categorical(yLE))"
      ],
      "execution_count": null,
      "outputs": []
    },
    {
      "cell_type": "code",
      "metadata": {
        "colab": {
          "base_uri": "https://localhost:8080/"
        },
        "id": "GmJIjrDGCGuj",
        "outputId": "2707f4da-c193-47c6-96be-5125d48ed276"
      },
      "source": [
        "yLE"
      ],
      "execution_count": null,
      "outputs": [
        {
          "output_type": "execute_result",
          "data": {
            "text/plain": [
              "array([[0., 0., 1., 0., 0.],\n",
              "       [0., 0., 1., 0., 0.],\n",
              "       [0., 0., 1., 0., 0.],\n",
              "       ...,\n",
              "       [0., 0., 0., 0., 1.],\n",
              "       [1., 0., 0., 0., 0.],\n",
              "       [0., 0., 1., 0., 0.]], dtype=float32)"
            ]
          },
          "metadata": {
            "tags": []
          },
          "execution_count": 42
        }
      ]
    },
    {
      "cell_type": "code",
      "metadata": {
        "id": "_lIA59tqCIXQ"
      },
      "source": [
        "from sklearn.model_selection import train_test_split\n",
        "trainX, testX, trainy, testy = train_test_split(x, yLE, test_size=0.25, random_state=1000)"
      ],
      "execution_count": null,
      "outputs": []
    },
    {
      "cell_type": "code",
      "metadata": {
        "colab": {
          "base_uri": "https://localhost:8080/"
        },
        "id": "GDhIU18GDCWT",
        "outputId": "b7eabaeb-29bc-4405-fe6f-bd5149426ec7"
      },
      "source": [
        "trainX.shape"
      ],
      "execution_count": null,
      "outputs": [
        {
          "output_type": "execute_result",
          "data": {
            "text/plain": [
              "(10827, 29535)"
            ]
          },
          "metadata": {
            "tags": []
          },
          "execution_count": 44
        }
      ]
    },
    {
      "cell_type": "code",
      "metadata": {
        "id": "v-OHb2kYCN3x"
      },
      "source": [
        "from tensorflow.keras import regularizers"
      ],
      "execution_count": null,
      "outputs": []
    },
    {
      "cell_type": "code",
      "metadata": {
        "colab": {
          "base_uri": "https://localhost:8080/"
        },
        "id": "DNXQvGZeKtd0",
        "outputId": "17f45960-b7b9-46ca-939b-7984ad47c43f"
      },
      "source": [
        "np.amax(trainX)"
      ],
      "execution_count": null,
      "outputs": [
        {
          "output_type": "execute_result",
          "data": {
            "text/plain": [
              "1.0"
            ]
          },
          "metadata": {
            "tags": []
          },
          "execution_count": 46
        }
      ]
    },
    {
      "cell_type": "code",
      "metadata": {
        "colab": {
          "base_uri": "https://localhost:8080/"
        },
        "id": "7YOSDr76C2R8",
        "outputId": "06a87825-770d-403f-8388-9e18e1a1b3f4"
      },
      "source": [
        "max_features =29535\n",
        "embedding_dim =256\n",
        "\n",
        "\n",
        "model = tf.keras.Sequential()\n",
        "model.add(tf.keras.layers.Embedding(2, embedding_dim, \n",
        "                                    embeddings_regularizer = regularizers.l2(0.0005)))                                    \n",
        "\n",
        "model.add(tf.keras.layers.Conv1D(128,3, activation='relu',\\\n",
        "                                 kernel_regularizer = regularizers.l2(0.0005),\\\n",
        "                                 bias_regularizer = regularizers.l2(0.0005)))                               \n",
        "\n",
        "\n",
        "model.add(tf.keras.layers.GlobalMaxPooling1D())\n",
        "\n",
        "model.add(tf.keras.layers.Dropout(0.5))\n",
        "\n",
        "model.add(tf.keras.layers.Dense(5, activation='sigmoid',\\\n",
        "                                kernel_regularizer=regularizers.l2(0.001),\\\n",
        "                                bias_regularizer=regularizers.l2(0.001),))\n",
        "                               \n",
        "model.summary()\n",
        "\n",
        "\n",
        "model.summary()\n",
        "model.compile(loss=tf.keras.losses.CategoricalCrossentropy(from_logits=True), optimizer='Nadam', metrics=[\"CategoricalAccuracy\"])"
      ],
      "execution_count": null,
      "outputs": [
        {
          "output_type": "stream",
          "text": [
            "Model: \"sequential\"\n",
            "_________________________________________________________________\n",
            "Layer (type)                 Output Shape              Param #   \n",
            "=================================================================\n",
            "embedding (Embedding)        (None, None, 256)         512       \n",
            "_________________________________________________________________\n",
            "conv1d (Conv1D)              (None, None, 128)         98432     \n",
            "_________________________________________________________________\n",
            "global_max_pooling1d (Global (None, 128)               0         \n",
            "_________________________________________________________________\n",
            "dropout (Dropout)            (None, 128)               0         \n",
            "_________________________________________________________________\n",
            "dense (Dense)                (None, 5)                 645       \n",
            "=================================================================\n",
            "Total params: 99,589\n",
            "Trainable params: 99,589\n",
            "Non-trainable params: 0\n",
            "_________________________________________________________________\n",
            "Model: \"sequential\"\n",
            "_________________________________________________________________\n",
            "Layer (type)                 Output Shape              Param #   \n",
            "=================================================================\n",
            "embedding (Embedding)        (None, None, 256)         512       \n",
            "_________________________________________________________________\n",
            "conv1d (Conv1D)              (None, None, 128)         98432     \n",
            "_________________________________________________________________\n",
            "global_max_pooling1d (Global (None, 128)               0         \n",
            "_________________________________________________________________\n",
            "dropout (Dropout)            (None, 128)               0         \n",
            "_________________________________________________________________\n",
            "dense (Dense)                (None, 5)                 645       \n",
            "=================================================================\n",
            "Total params: 99,589\n",
            "Trainable params: 99,589\n",
            "Non-trainable params: 0\n",
            "_________________________________________________________________\n"
          ],
          "name": "stdout"
        }
      ]
    },
    {
      "cell_type": "code",
      "metadata": {
        "colab": {
          "base_uri": "https://localhost:8080/"
        },
        "id": "2iMaufqyDHvd",
        "outputId": "138a5c5a-c620-4680-ade6-c7ade3290724"
      },
      "source": [
        "epochs = 3\n",
        "# Fit the model using the train and test datasets.\n",
        "history = model.fit(trainX, trainy,validation_data= (testX,testy),epochs=epochs )"
      ],
      "execution_count": 48,
      "outputs": [
        {
          "output_type": "stream",
          "text": [
            "Epoch 1/3\n"
          ],
          "name": "stdout"
        },
        {
          "output_type": "stream",
          "text": [
            "/usr/local/lib/python3.7/dist-packages/tensorflow/python/keras/backend.py:4870: UserWarning: \"`categorical_crossentropy` received `from_logits=True`, but the `output` argument was produced by a sigmoid or softmax activation and thus does not represent logits. Was this intended?\"\n",
            "  '\"`categorical_crossentropy` received `from_logits=True`, but '\n"
          ],
          "name": "stderr"
        },
        {
          "output_type": "stream",
          "text": [
            "339/339 [==============================] - 2403s 7s/step - loss: 1.5650 - categorical_accuracy: 0.3366 - val_loss: 1.5439 - val_categorical_accuracy: 0.3394\n",
            "Epoch 2/3\n",
            "339/339 [==============================] - 2397s 7s/step - loss: 1.5446 - categorical_accuracy: 0.3379 - val_loss: 1.5389 - val_categorical_accuracy: 0.3394\n",
            "Epoch 3/3\n",
            "339/339 [==============================] - 2415s 7s/step - loss: 1.5411 - categorical_accuracy: 0.3380 - val_loss: 1.5383 - val_categorical_accuracy: 0.3394\n"
          ],
          "name": "stdout"
        }
      ]
    }
  ]
}